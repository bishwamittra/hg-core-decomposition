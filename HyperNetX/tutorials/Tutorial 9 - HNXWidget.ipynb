{
 "cells": [
  {
   "cell_type": "markdown",
   "metadata": {},
   "source": [
    "<img src='images/Ebcosette.jpg' width='100px' style=\"float:left;margin-right:10pt\"></img>\n",
    "# LesMis on HNX Widgets\n",
    "\n",
    "We illustrate the \n",
    "<a href=\"https://github.com/pnnl/hypernetx-widget\" target=\"_blank\">Hypernetx-Widget</a>\n",
    "addon for HNX using the LesMis dataset from Tutorials 3 and 4.\n",
    "\n",
    "**Note that this tool is still in development so not all features are connected. Have fun exploring.**"
   ]
  },
  {
   "cell_type": "code",
   "execution_count": 1,
   "metadata": {},
   "outputs": [
    {
     "data": {
      "text/html": [
       "<div>\n",
       "<style scoped>\n",
       "    .dataframe tbody tr th:only-of-type {\n",
       "        vertical-align: middle;\n",
       "    }\n",
       "\n",
       "    .dataframe tbody tr th {\n",
       "        vertical-align: top;\n",
       "    }\n",
       "\n",
       "    .dataframe thead th {\n",
       "        text-align: right;\n",
       "    }\n",
       "</style>\n",
       "<table border=\"1\" class=\"dataframe\">\n",
       "  <thead>\n",
       "    <tr style=\"text-align: right;\">\n",
       "      <th></th>\n",
       "      <th>FullName</th>\n",
       "      <th>Description</th>\n",
       "    </tr>\n",
       "    <tr>\n",
       "      <th>Symbol</th>\n",
       "      <th></th>\n",
       "      <th></th>\n",
       "    </tr>\n",
       "  </thead>\n",
       "  <tbody>\n",
       "    <tr>\n",
       "      <th>AZ</th>\n",
       "      <td>Anzelma</td>\n",
       "      <td>daughter of TH and TM</td>\n",
       "    </tr>\n",
       "    <tr>\n",
       "      <th>BA</th>\n",
       "      <td>Bahorel</td>\n",
       "      <td>`Friends of the ABC' cutup</td>\n",
       "    </tr>\n",
       "    <tr>\n",
       "      <th>BB</th>\n",
       "      <td>Babet</td>\n",
       "      <td>tooth-pulling bandit of Paris</td>\n",
       "    </tr>\n",
       "    <tr>\n",
       "      <th>BJ</th>\n",
       "      <td>Brujon</td>\n",
       "      <td>notorious criminal</td>\n",
       "    </tr>\n",
       "    <tr>\n",
       "      <th>BL</th>\n",
       "      <td>Blacheville</td>\n",
       "      <td>Parisian student from Montauban</td>\n",
       "    </tr>\n",
       "    <tr>\n",
       "      <th>...</th>\n",
       "      <td>...</td>\n",
       "      <td>...</td>\n",
       "    </tr>\n",
       "    <tr>\n",
       "      <th>TS</th>\n",
       "      <td>Toussaint</td>\n",
       "      <td>servant of JV at Rue Plumet</td>\n",
       "    </tr>\n",
       "    <tr>\n",
       "      <th>VI</th>\n",
       "      <td>Madame Victurnien</td>\n",
       "      <td>snoop in M-- sur M--</td>\n",
       "    </tr>\n",
       "    <tr>\n",
       "      <th>XA</th>\n",
       "      <td>Child 1</td>\n",
       "      <td>son of TH sold to MN</td>\n",
       "    </tr>\n",
       "    <tr>\n",
       "      <th>XB</th>\n",
       "      <td>Child 2</td>\n",
       "      <td>son of TH sold to MN</td>\n",
       "    </tr>\n",
       "    <tr>\n",
       "      <th>ZE</th>\n",
       "      <td>Zephine</td>\n",
       "      <td>lover of FA</td>\n",
       "    </tr>\n",
       "  </tbody>\n",
       "</table>\n",
       "<p>80 rows × 2 columns</p>\n",
       "</div>"
      ],
      "text/plain": [
       "                 FullName                       Description\n",
       "Symbol                                                     \n",
       "AZ                Anzelma             daughter of TH and TM\n",
       "BA                Bahorel        `Friends of the ABC' cutup\n",
       "BB                  Babet     tooth-pulling bandit of Paris\n",
       "BJ                 Brujon                notorious criminal\n",
       "BL            Blacheville   Parisian student from Montauban\n",
       "...                   ...                               ...\n",
       "TS              Toussaint       servant of JV at Rue Plumet\n",
       "VI      Madame Victurnien              snoop in M-- sur M--\n",
       "XA                Child 1              son of TH sold to MN\n",
       "XB                Child 2              son of TH sold to MN\n",
       "ZE                Zephine                       lover of FA\n",
       "\n",
       "[80 rows x 2 columns]"
      ]
     },
     "execution_count": 1,
     "metadata": {},
     "output_type": "execute_result"
    }
   ],
   "source": [
    "import numpy as np\n",
    "import pandas as pd\n",
    "import json\n",
    "import hypernetx as hnx\n",
    "from hypernetx.utils.toys.lesmis import LesMis\n",
    "from hnxwidget import HypernetxWidget\n",
    "\n",
    "scenes = {\n",
    "    0: ('FN', 'TH'),\n",
    "    1: ('TH', 'JV'),\n",
    "    2: ('BM', 'FN', 'JA'),\n",
    "    3: ('JV', 'JU', 'CH', 'BM'),\n",
    "    4: ('JU', 'CH', 'BR', 'CN', 'CC', 'JV', 'BM'),\n",
    "    5: ('TH', 'GP'),\n",
    "    6: ('GP', 'MP'),\n",
    "    7: ('MA', 'GP'),\n",
    "}\n",
    "H = hnx.Hypergraph(scenes)\n",
    "dnames = LesMis().dnames\n",
    "dnames"
   ]
  },
  {
   "cell_type": "markdown",
   "metadata": {},
   "source": [
    "## I. LesMis Hypergraph in the Hypernetx-Widget - Default Behavior\n",
    "The widget allows you to interactively move, color, select, and hide objects in the hypergraph. Click on the question mark in the Navigation menu for a description of interactive features."
   ]
  },
  {
   "cell_type": "code",
   "execution_count": 2,
   "metadata": {},
   "outputs": [
    {
     "data": {
      "application/vnd.jupyter.widget-view+json": {
       "model_id": "d7cb5fd9343e41dd8a1b5c36499d7628",
       "version_major": 2,
       "version_minor": 0
      },
      "text/plain": [
       "HypernetxWidget(component='HypernetxWidget', props={'nodes': [{'uid': 'CH'}, {'uid': 'FN'}, {'uid': 'MA'}, {'u…"
      ]
     },
     "metadata": {},
     "output_type": "display_data"
    }
   ],
   "source": [
    "## Default behavior\n",
    "example1 = HypernetxWidget(H)\n",
    "example1"
   ]
  },
  {
   "cell_type": "markdown",
   "metadata": {},
   "source": [
    "## II. Preset attributes \n",
    "Some of the visualization attributes of the hypergraph may be set using similar parameters as the hnx.draw function"
   ]
  },
  {
   "cell_type": "code",
   "execution_count": 3,
   "metadata": {},
   "outputs": [
    {
     "data": {
      "application/vnd.jupyter.widget-view+json": {
       "model_id": "5e899b7ef1864a12b7fc0c5c5119b20c",
       "version_major": 2,
       "version_minor": 0
      },
      "text/plain": [
       "HypernetxWidget(component='HypernetxWidget', props={'nodes': [{'uid': 'CH'}, {'uid': 'FN'}, {'uid': 'MA'}, {'u…"
      ]
     },
     "metadata": {},
     "output_type": "display_data"
    }
   ],
   "source": [
    "node_colors = {k:'r' if k in ['JV','TH','FN'] else 'b' for k in H.nodes}\n",
    "example2 = HypernetxWidget(\n",
    "    H,\n",
    "    nodes_kwargs={'color':node_colors},\n",
    "    edges_kwargs={'edgecolors':'g'}\n",
    ")\n",
    "example2"
   ]
  },
  {
   "cell_type": "markdown",
   "metadata": {},
   "source": [
    "## III. Attributes of visualization:\n",
    "The `get_state()` method returns the attributes available from a widget for reuse."
   ]
  },
  {
   "cell_type": "code",
   "execution_count": 4,
   "metadata": {
    "scrolled": true
   },
   "outputs": [
    {
     "data": {
      "text/plain": [
       "{'_dom_classes': (),\n",
       " '_model_module': 'hnx-widget',\n",
       " '_model_module_version': '^0.1.0',\n",
       " '_model_name': 'ReactModel',\n",
       " '_view_count': None,\n",
       " '_view_module': 'hnx-widget',\n",
       " '_view_module_version': '^0.1.0',\n",
       " '_view_name': 'ReactView',\n",
       " 'component': 'HypernetxWidget',\n",
       " 'edge_stroke': {'0': '#008000ff',\n",
       "  '1': '#008000ff',\n",
       "  '2': '#008000ff',\n",
       "  '3': '#008000ff',\n",
       "  '4': '#008000ff',\n",
       "  '5': '#008000ff',\n",
       "  '6': '#008000ff',\n",
       "  '7': '#008000ff'},\n",
       " 'hidden_edges': {},\n",
       " 'hidden_nodes': {},\n",
       " 'layout': 'IPY_MODEL_73dc97075a2447d2ad081b06ef4df706',\n",
       " 'node_fill': {'CH': '#0000ffff',\n",
       "  'FN': '#ff0000ff',\n",
       "  'MA': '#0000ffff',\n",
       "  'CN': '#0000ffff',\n",
       "  'TH': '#ff0000ff',\n",
       "  'BM': '#0000ffff',\n",
       "  'JV': '#ff0000ff',\n",
       "  'JA': '#0000ffff',\n",
       "  'JU': '#0000ffff',\n",
       "  'MP': '#0000ffff',\n",
       "  'CC': '#0000ffff',\n",
       "  'BR': '#0000ffff',\n",
       "  'GP': '#0000ffff'},\n",
       " 'pos': {'CH': [416.2561681242694, 498.33104838818474],\n",
       "  'FN': [397.50187328611247, 235.33875180929653],\n",
       "  'MA': [159.74320671469025, 124.87328948594825],\n",
       "  'CN': [417.9051401685317, 377.9655531890027],\n",
       "  'TH': [256.46771497096825, 312.46474398858527],\n",
       "  'BM': [479.78067878164035, 358.10799612537824],\n",
       "  'JV': [337.2327949825289, 465.46075047906237],\n",
       "  'JA': [484.3062498759674, 224.15629540968678],\n",
       "  'JU': [481.4883611019205, 487.0589981026385],\n",
       "  'MP': [53.518691445737744, 236.1745900255351],\n",
       "  'CC': [397.28480166927585, 437.43212888183433],\n",
       "  'BR': [470.11665774821034, 421.4727191382853],\n",
       "  'GP': [144.1019397959929, 220.64958868643438]},\n",
       " 'props': {'nodes': [{'uid': 'CH'},\n",
       "   {'uid': 'FN'},\n",
       "   {'uid': 'MA'},\n",
       "   {'uid': 'CN'},\n",
       "   {'uid': 'TH'},\n",
       "   {'uid': 'BM'},\n",
       "   {'uid': 'JV'},\n",
       "   {'uid': 'JA'},\n",
       "   {'uid': 'JU'},\n",
       "   {'uid': 'MP'},\n",
       "   {'uid': 'CC'},\n",
       "   {'uid': 'BR'},\n",
       "   {'uid': 'GP'}],\n",
       "  'edges': [{'uid': '0', 'elements': ['TH', 'FN']},\n",
       "   {'uid': '1', 'elements': ['TH', 'JV']},\n",
       "   {'uid': '2', 'elements': ['FN', 'BM', 'JA']},\n",
       "   {'uid': '3', 'elements': ['CH', 'JV', 'BM', 'JU']},\n",
       "   {'uid': '4', 'elements': ['CH', 'CN', 'JV', 'BM', 'JU', 'CC', 'BR']},\n",
       "   {'uid': '5', 'elements': ['GP', 'TH']},\n",
       "   {'uid': '6', 'elements': ['GP', 'MP']},\n",
       "   {'uid': '7', 'elements': ['GP', 'MA']}],\n",
       "  'nodeFill': {'CH': '#0000ffff',\n",
       "   'FN': '#ff0000ff',\n",
       "   'MA': '#0000ffff',\n",
       "   'CN': '#0000ffff',\n",
       "   'TH': '#ff0000ff',\n",
       "   'BM': '#0000ffff',\n",
       "   'JV': '#ff0000ff',\n",
       "   'JA': '#0000ffff',\n",
       "   'JU': '#0000ffff',\n",
       "   'MP': '#0000ffff',\n",
       "   'CC': '#0000ffff',\n",
       "   'BR': '#0000ffff',\n",
       "   'GP': '#0000ffff'},\n",
       "  'edgeStroke': {'0': '#008000ff',\n",
       "   '1': '#008000ff',\n",
       "   '2': '#008000ff',\n",
       "   '3': '#008000ff',\n",
       "   '4': '#008000ff',\n",
       "   '5': '#008000ff',\n",
       "   '6': '#008000ff',\n",
       "   '7': '#008000ff'},\n",
       "  'edgeStrokeWidth': {'0': 2,\n",
       "   '1': 2,\n",
       "   '2': 2,\n",
       "   '3': 2,\n",
       "   '4': 2,\n",
       "   '5': 2,\n",
       "   '6': 2,\n",
       "   '7': 2},\n",
       "  'edgeLabelColor': {'0': '#008000ff',\n",
       "   '1': '#008000ff',\n",
       "   '2': '#008000ff',\n",
       "   '3': '#008000ff',\n",
       "   '4': '#008000ff',\n",
       "   '5': '#008000ff',\n",
       "   '6': '#008000ff',\n",
       "   '7': '#008000ff'},\n",
       "  '_model': 'IPY_MODEL_5e899b7ef1864a12b7fc0c5c5119b20c'},\n",
       " 'removed_edges': {},\n",
       " 'removed_nodes': {},\n",
       " 'selected_edges': {},\n",
       " 'selected_nodes': {}}"
      ]
     },
     "execution_count": 4,
     "metadata": {},
     "output_type": "execute_result"
    }
   ],
   "source": [
    "example2.get_state()"
   ]
  },
  {
   "cell_type": "markdown",
   "metadata": {},
   "source": [
    "## IV. Reuse attributes\n",
    "Once an attribute of a widget visualization has been set it may be reused in another visualization"
   ]
  },
  {
   "cell_type": "code",
   "execution_count": 5,
   "metadata": {},
   "outputs": [
    {
     "data": {
      "application/vnd.jupyter.widget-view+json": {
       "model_id": "4c3157756c6a4bb58be5783d966063e7",
       "version_major": 2,
       "version_minor": 0
      },
      "text/plain": [
       "HypernetxWidget(component='HypernetxWidget', props={'nodes': [{'uid': 'CH'}, {'uid': 'FN'}, {'uid': 'MA'}, {'u…"
      ]
     },
     "metadata": {},
     "output_type": "display_data"
    }
   ],
   "source": [
    "example3 = HypernetxWidget(\n",
    "    H,\n",
    "    nodes_kwargs={'color': example2.node_fill}\n",
    ")\n",
    "\n",
    "example3"
   ]
  },
  {
   "cell_type": "markdown",
   "metadata": {},
   "source": [
    "## V. Setting Labels and Callouts\n",
    "We can also adjust specific labels and add call outs as node or edge data."
   ]
  },
  {
   "cell_type": "code",
   "execution_count": 6,
   "metadata": {
    "scrolled": false
   },
   "outputs": [
    {
     "data": {
      "application/vnd.jupyter.widget-view+json": {
       "model_id": "abcb7252a836465a929ecf322ddfc342",
       "version_major": 2,
       "version_minor": 0
      },
      "text/plain": [
       "HypernetxWidget(component='HypernetxWidget', props={'nodes': [{'uid': 'CH'}, {'uid': 'FN'}, {'uid': 'MA'}, {'u…"
      ]
     },
     "metadata": {},
     "output_type": "display_data"
    }
   ],
   "source": [
    "example4 = HypernetxWidget(\n",
    "    H,\n",
    "    collapse_nodes=True,\n",
    "    node_data=dnames,\n",
    "    node_labels={'JV': 'Valjean'},\n",
    "    edge_labels={0: 'scene 0'},\n",
    "    nodes_kwargs={'color':'pink'},\n",
    ")\n",
    "\n",
    "example4"
   ]
  },
  {
   "cell_type": "code",
   "execution_count": null,
   "metadata": {},
   "outputs": [],
   "source": []
  }
 ],
 "metadata": {
  "kernelspec": {
   "display_name": "Python 3",
   "language": "python",
   "name": "python3"
  },
  "language_info": {
   "codemirror_mode": {
    "name": "ipython",
    "version": 3
   },
   "file_extension": ".py",
   "mimetype": "text/x-python",
   "name": "python",
   "nbconvert_exporter": "python",
   "pygments_lexer": "ipython3",
   "version": "3.7.10"
  }
 },
 "nbformat": 4,
 "nbformat_minor": 2
}
