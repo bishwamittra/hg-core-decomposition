{
 "metadata": {
  "language_info": {
   "codemirror_mode": {
    "name": "ipython",
    "version": 3
   },
   "file_extension": ".py",
   "mimetype": "text/x-python",
   "name": "python",
   "nbconvert_exporter": "python",
   "pygments_lexer": "ipython3",
   "version": "3.6.12"
  },
  "orig_nbformat": 2,
  "kernelspec": {
   "name": "python3",
   "display_name": "Python 3.6.12 64-bit ('is36': conda)"
  },
  "interpreter": {
   "hash": "94de5f854492d881c1090ba2bada37ea5a224138e31d2f0053a25cfed357f2e6"
  }
 },
 "nbformat": 4,
 "nbformat_minor": 2,
 "cells": [
  {
   "cell_type": "code",
   "execution_count": 34,
   "source": [
    "import pandas as pd\n",
    "import seaborn as sns\n",
    "%matplotlib inline\n",
    "import matplotlib.pyplot as plt\n",
    "import numpy as np\n",
    "import os\n",
    "import shutil\n",
    "\n",
    "output_folder = 'data/output/'\n",
    "# output_folder = 'run_1/mpi/data/output/'\n",
    "# output_folder = 'run_2(mac)/data/output/'\n",
    "\n",
    "# If fig folder exists remove it and its contents recursively\n",
    "if os.path.exists(output_folder+\"fig/\"):\n",
    "    shutil.rmtree(output_folder+\"fig/\")\n",
    "os.mkdir(output_folder+\"fig/\")\n",
    "\n",
    "fontsize = 22\n",
    "labelsize = 18"
   ],
   "outputs": [],
   "metadata": {}
  },
  {
   "cell_type": "code",
   "execution_count": 35,
   "source": [
    "# df = pd.read_csv(\"data/output/result.csv\", header=None)\n",
    "df = pd.read_csv(output_folder+\"result.csv\")\n",
    "df.columns = ['algo', 'bucket update time', 'core', 'dataset', 'degree call time', 'execution time', 'neighborhood call time', 'num bucket update', 'num degree computation', 'num neighborhood computation',  'num subgraph call','param_s', 'subgraph computation time']\n",
    "print(df.shape)\n",
    "# df.head()"
   ],
   "outputs": [
    {
     "output_type": "stream",
     "name": "stdout",
     "text": [
      "(142, 13)\n"
     ]
    },
    {
     "output_type": "execute_result",
     "data": {
      "text/plain": [
       "           algo  bucket update time  \\\n",
       "0     naive_nbr            0.092375   \n",
       "1     naive_nbr            0.085289   \n",
       "2     naive_nbr            0.087244   \n",
       "3     naive_nbr            0.084747   \n",
       "4  improved_nbr            0.045308   \n",
       "\n",
       "                                                core dataset  \\\n",
       "0  {'3': 186, '2': 186, '13': 186, '10': 186, '17...   bin_2   \n",
       "1  {'3': 186, '2': 186, '13': 186, '10': 186, '17...   bin_2   \n",
       "2  {'3': 186, '2': 186, '13': 186, '10': 186, '17...   bin_2   \n",
       "3  {'3': 186, '2': 186, '13': 186, '10': 186, '17...   bin_2   \n",
       "4  {'3': 186, '2': 186, '10': 186, '13': 186, '17...   bin_2   \n",
       "\n",
       "   degree call time  execution time  neighborhood call time  \\\n",
       "0               0.0       18.734513                1.280646   \n",
       "1               0.0       18.199238                1.236897   \n",
       "2               0.0       18.236245                1.240288   \n",
       "3               0.0       17.923768                1.219865   \n",
       "4               0.0       25.368895                0.895802   \n",
       "\n",
       "   num bucket update  num degree computation  num neighborhood computation  \\\n",
       "0            30995.0                     0.0                       30995.0   \n",
       "1            30995.0                     0.0                       30995.0   \n",
       "2            30995.0                     0.0                       30995.0   \n",
       "3            30995.0                     0.0                       30995.0   \n",
       "4            21207.0                     0.0                       21207.0   \n",
       "\n",
       "   num subgraph call  param_s  subgraph computation time  \n",
       "0              500.0      1.0                  17.204791  \n",
       "1              500.0      1.0                  16.724010  \n",
       "2              500.0      1.0                  16.756796  \n",
       "3              500.0      1.0                  16.471322  \n",
       "4              500.0      1.0                  16.612531  "
      ],
      "text/html": [
       "<div>\n",
       "<style scoped>\n",
       "    .dataframe tbody tr th:only-of-type {\n",
       "        vertical-align: middle;\n",
       "    }\n",
       "\n",
       "    .dataframe tbody tr th {\n",
       "        vertical-align: top;\n",
       "    }\n",
       "\n",
       "    .dataframe thead th {\n",
       "        text-align: right;\n",
       "    }\n",
       "</style>\n",
       "<table border=\"1\" class=\"dataframe\">\n",
       "  <thead>\n",
       "    <tr style=\"text-align: right;\">\n",
       "      <th></th>\n",
       "      <th>algo</th>\n",
       "      <th>bucket update time</th>\n",
       "      <th>core</th>\n",
       "      <th>dataset</th>\n",
       "      <th>degree call time</th>\n",
       "      <th>execution time</th>\n",
       "      <th>neighborhood call time</th>\n",
       "      <th>num bucket update</th>\n",
       "      <th>num degree computation</th>\n",
       "      <th>num neighborhood computation</th>\n",
       "      <th>num subgraph call</th>\n",
       "      <th>param_s</th>\n",
       "      <th>subgraph computation time</th>\n",
       "    </tr>\n",
       "  </thead>\n",
       "  <tbody>\n",
       "    <tr>\n",
       "      <th>0</th>\n",
       "      <td>naive_nbr</td>\n",
       "      <td>0.092375</td>\n",
       "      <td>{'3': 186, '2': 186, '13': 186, '10': 186, '17...</td>\n",
       "      <td>bin_2</td>\n",
       "      <td>0.0</td>\n",
       "      <td>18.734513</td>\n",
       "      <td>1.280646</td>\n",
       "      <td>30995.0</td>\n",
       "      <td>0.0</td>\n",
       "      <td>30995.0</td>\n",
       "      <td>500.0</td>\n",
       "      <td>1.0</td>\n",
       "      <td>17.204791</td>\n",
       "    </tr>\n",
       "    <tr>\n",
       "      <th>1</th>\n",
       "      <td>naive_nbr</td>\n",
       "      <td>0.085289</td>\n",
       "      <td>{'3': 186, '2': 186, '13': 186, '10': 186, '17...</td>\n",
       "      <td>bin_2</td>\n",
       "      <td>0.0</td>\n",
       "      <td>18.199238</td>\n",
       "      <td>1.236897</td>\n",
       "      <td>30995.0</td>\n",
       "      <td>0.0</td>\n",
       "      <td>30995.0</td>\n",
       "      <td>500.0</td>\n",
       "      <td>1.0</td>\n",
       "      <td>16.724010</td>\n",
       "    </tr>\n",
       "    <tr>\n",
       "      <th>2</th>\n",
       "      <td>naive_nbr</td>\n",
       "      <td>0.087244</td>\n",
       "      <td>{'3': 186, '2': 186, '13': 186, '10': 186, '17...</td>\n",
       "      <td>bin_2</td>\n",
       "      <td>0.0</td>\n",
       "      <td>18.236245</td>\n",
       "      <td>1.240288</td>\n",
       "      <td>30995.0</td>\n",
       "      <td>0.0</td>\n",
       "      <td>30995.0</td>\n",
       "      <td>500.0</td>\n",
       "      <td>1.0</td>\n",
       "      <td>16.756796</td>\n",
       "    </tr>\n",
       "    <tr>\n",
       "      <th>3</th>\n",
       "      <td>naive_nbr</td>\n",
       "      <td>0.084747</td>\n",
       "      <td>{'3': 186, '2': 186, '13': 186, '10': 186, '17...</td>\n",
       "      <td>bin_2</td>\n",
       "      <td>0.0</td>\n",
       "      <td>17.923768</td>\n",
       "      <td>1.219865</td>\n",
       "      <td>30995.0</td>\n",
       "      <td>0.0</td>\n",
       "      <td>30995.0</td>\n",
       "      <td>500.0</td>\n",
       "      <td>1.0</td>\n",
       "      <td>16.471322</td>\n",
       "    </tr>\n",
       "    <tr>\n",
       "      <th>4</th>\n",
       "      <td>improved_nbr</td>\n",
       "      <td>0.045308</td>\n",
       "      <td>{'3': 186, '2': 186, '10': 186, '13': 186, '17...</td>\n",
       "      <td>bin_2</td>\n",
       "      <td>0.0</td>\n",
       "      <td>25.368895</td>\n",
       "      <td>0.895802</td>\n",
       "      <td>21207.0</td>\n",
       "      <td>0.0</td>\n",
       "      <td>21207.0</td>\n",
       "      <td>500.0</td>\n",
       "      <td>1.0</td>\n",
       "      <td>16.612531</td>\n",
       "    </tr>\n",
       "  </tbody>\n",
       "</table>\n",
       "</div>"
      ]
     },
     "metadata": {},
     "execution_count": 35
    }
   ],
   "metadata": {}
  },
  {
   "cell_type": "code",
   "execution_count": 18,
   "source": [
    "# # df = pd.read_csv(\"data/output/result.csv\", header=None)\n",
    "# df = pd.read_csv(output_folder+\"result.csv\")\n",
    "# df.columns = ['algo', 'bucket update time', 'core', 'dataset', 'degree call time', 'execution time', 'neighborhood call time', 'num bucket update', 'num degree computation', 'num neighborhood computation', 'param_s']\n",
    "# print(df.shape)\n",
    "# # df"
   ],
   "outputs": [
    {
     "output_type": "stream",
     "name": "stdout",
     "text": [
      "(663, 11)\n"
     ]
    }
   ],
   "metadata": {}
  },
  {
   "cell_type": "markdown",
   "source": [
    "### sample plotting"
   ],
   "metadata": {}
  },
  {
   "cell_type": "code",
   "execution_count": 33,
   "source": [
    "save = True\n",
    "\n",
    "\n",
    "sns.set(rc={'figure.figsize':(5,4)})\n",
    "sns.set_style(\"whitegrid\", {'axes.grid' : True})\n",
    "\n",
    "\n",
    "\n",
    "good_name = {\n",
    "    'bucket update time' : 'Bucket time (s)', \n",
    "    'execution time' : \"Time (s)\", \n",
    "    'neighborhood call time' : \"NB time (s)\", \n",
    "    'subgraph computation time' : \"Sub time(s)\",\n",
    "    'num bucket update' : \"#bucket\", \n",
    "    'num neighborhood computation' : \"#nb\",\n",
    "    'num subgraph call' : \"#subgraph\"\n",
    "}\n",
    "\n",
    "good_name_algo = {\n",
    "    'naive_nbr' : \"NBR\", \n",
    "    'improved_nbr' : \"NBR(1)\", \n",
    "    'improved2_nbr' : \"NBR(2)\",\n",
    "    'naive_degree' : \"DEG\"\n",
    "}\n",
    "\n",
    "\n",
    "\n",
    "\n",
    "group_list = ['dataset']\n",
    "for key, item in df.groupby(group_list, as_index=False):\n",
    "    # key contains dataset\n",
    "    item['param_s'] = item['param_s'].astype(int)\n",
    "    item = item.replace({\"algo\": good_name_algo})\n",
    "    for y_axis in ['bucket update time', 'execution time', 'neighborhood call time', 'num bucket update', 'num neighborhood computation', 'subgraph computation time', 'num subgraph call']:\n",
    "\n",
    "        sns.barplot(x='algo', y=y_axis, data=item, palette='colorblind', order=['NBR', 'NBR(1)', 'NBR(2)'])\n",
    "        plt.xlabel('Algorithm', fontsize=fontsize)\n",
    "        plt.ylabel(good_name[y_axis], fontsize=fontsize)\n",
    "        # plt.yscale(\"log\")\n",
    "        plt.xticks(fontsize=labelsize)\n",
    "        plt.yticks(fontsize=labelsize)\n",
    "        plt.title(key)\n",
    "        plt.tight_layout()\n",
    "        filename = (key + \" \" + y_axis).replace(\" \", \"_\")\n",
    "        if(save):\n",
    "            plt.savefig(output_folder+\"fig/\" + filename + \".pdf\")\n",
    "        else:\n",
    "            print(filename)\n",
    "            plt.show()\n",
    "        plt.clf()\n",
    "\n",
    "    # Commnet out following to see full results\n",
    "    if(not save):\n",
    "        break"
   ],
   "outputs": [
    {
     "output_type": "display_data",
     "data": {
      "text/plain": [
       "<Figure size 360x288 with 0 Axes>"
      ]
     },
     "metadata": {}
    }
   ],
   "metadata": {}
  },
  {
   "cell_type": "markdown",
   "source": [
    "### Effect of parameter \"s\" in improved2_nbr"
   ],
   "metadata": {}
  },
  {
   "cell_type": "code",
   "execution_count": 5,
   "source": [
    "save = True\n",
    "\n",
    "group_list = ['dataset']\n",
    "for key, item in df[df['algo'] == 'improved2_nbr'].groupby(group_list, as_index=False):\n",
    "    \n",
    "    # key contains dataset\n",
    "    item['param_s'] = item['param_s'].astype(int)\n",
    "\n",
    "    for y_axis in ['bucket update time', 'execution time', 'neighborhood call time', 'num bucket update', 'num neighborhood computation']:\n",
    "\n",
    "        sns.barplot(x='param_s', y=y_axis, data=item, palette='colorblind')\n",
    "        plt.xlabel(r'$s$', fontsize=fontsize)\n",
    "        plt.ylabel(good_name[y_axis], fontsize=fontsize)\n",
    "        # plt.yscale(\"log\")\n",
    "        plt.xticks(fontsize=labelsize)\n",
    "        plt.yticks(fontsize=labelsize)\n",
    "\n",
    "        plt.title(key)\n",
    "        # plt.legend(loc='best', fontsize=labelsize-4)\n",
    "        plt.tight_layout()\n",
    "        filename = (key + \" param_s \" + y_axis).replace(\" \", \"_\")\n",
    "        if(save):\n",
    "            plt.savefig(output_folder+\"fig/\" + filename + \".pdf\")\n",
    "        else:\n",
    "            print(filename)\n",
    "            plt.show()\n",
    "        plt.clf()\n",
    "\n",
    "    # Commnet out following to see full results\n",
    "    if(not save):\n",
    "        break\n"
   ],
   "outputs": [
    {
     "output_type": "display_data",
     "data": {
      "text/plain": [
       "<Figure size 360x288 with 0 Axes>"
      ]
     },
     "metadata": {}
    }
   ],
   "metadata": {}
  },
  {
   "cell_type": "code",
   "execution_count": 28,
   "source": [
    "df.columns"
   ],
   "outputs": [
    {
     "output_type": "execute_result",
     "data": {
      "text/plain": [
       "Index(['algo', 'bucket update time', 'core', 'dataset', 'degree call time',\n",
       "       'execution time', 'neighborhood call time', 'num bucket update',\n",
       "       'num degree computation', 'num neighborhood computation', 'param_s'],\n",
       "      dtype='object')"
      ]
     },
     "metadata": {},
     "execution_count": 28
    }
   ],
   "metadata": {}
  },
  {
   "cell_type": "markdown",
   "source": [
    "### statistics of run"
   ],
   "metadata": {}
  },
  {
   "cell_type": "code",
   "execution_count": 30,
   "source": [
    "group_list = ['dataset', 'algo', 'param_s']\n",
    "for key, item in df.groupby(group_list, as_index=False):\n",
    "    print(key, item.shape[0])"
   ],
   "outputs": [
    {
     "output_type": "stream",
     "name": "stdout",
     "text": [
      "('default', 'improved2_nbr', 16.0) 100\n",
      "('default', 'improved_nbr', 13.0) 100\n",
      "('default', 'naive_degree', 13.0) 100\n",
      "('default', 'naive_nbr', 1.0) 100\n"
     ]
    }
   ],
   "metadata": {}
  },
  {
   "cell_type": "code",
   "execution_count": 31,
   "source": [
    "# df[(df['algo'] == \"improved2_nbr\") & (df['dataset'] == 'bin_4') & (df['param_s'] == 6)]"
   ],
   "outputs": [],
   "metadata": {}
  },
  {
   "cell_type": "code",
   "execution_count": null,
   "source": [],
   "outputs": [],
   "metadata": {}
  }
 ]
}