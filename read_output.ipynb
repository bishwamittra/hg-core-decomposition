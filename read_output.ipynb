{
 "cells": [
  {
   "cell_type": "code",
   "execution_count": 15,
   "metadata": {},
   "outputs": [],
   "source": [
    "import pandas as pd\n",
    "import seaborn as sns\n",
    "%matplotlib inline\n",
    "import matplotlib.pyplot as plt\n",
    "import numpy as np\n",
    "import os\n",
    "import shutil\n",
    "\n",
    "output_folder = 'data/output/'\n",
    "# output_folder = '/Users/nus/hg-core-decomposition/backup_output/mpi/data/output/'\n",
    "# output_folder = 'run_1/mpi/data/output/'\n",
    "# output_folder = 'run_2(mac)/data/output/'\n",
    "\n",
    "# If fig folder exists remove it and its contents recursively\n",
    "if os.path.exists(output_folder+\"fig/\"):\n",
    "    shutil.rmtree(output_folder+\"fig/\")\n",
    "os.mkdir(output_folder+\"fig/\")\n",
    "\n",
    "fontsize = 22\n",
    "labelsize = 18"
   ]
  },
  {
   "cell_type": "code",
   "execution_count": 40,
   "metadata": {},
   "outputs": [],
   "source": [
    "# output_folder2 = '/Users/nus/hg-core-decomposition/backup_output/mpi/data/output/'\n",
    "# output_folder2 = '/Users/nus/hg-core-decomposition/run_par/mpi/data/output/'\n",
    "# df2 = pd.read_csv(output_folder2+\"result.csv\")\n",
    "# df2.columns = ['algo', 'bucket update time', 'core', 'dataset', 'degree call time', 'execution time', 'init time', 'inner iteration', 'neighborhood call time', 'num bucket update', 'num degree computation', 'num neighborhood computation', 'num subgraph call', 'num_threads', 'outerloop time', 'param_s', 'subgraph computation time', 'total iteration']\n",
    "# df2 = df2.loc[df2['algo'].isin(['naive_nbr','improved_nbr'])]\n",
    "# df2.shape\n",
    "# df2.head()"
   ]
  },
  {
   "cell_type": "code",
   "execution_count": 23,
   "metadata": {},
   "outputs": [
    {
     "name": "stdout",
     "output_type": "stream",
     "text": [
      "(56, 25)\n"
     ]
    }
   ],
   "source": [
    "df = pd.read_csv(\"data/output/result.csv\", header=None)\n",
    "# df = pd.read_csv(output_folder+\"result.csv\")\n",
    "\n",
    "# Includes local algorithm statistics\n",
    "df.columns = ['algo', 'bucket update time', 'core', 'core_correction time', 'core_correction_volume', 'dataset', 'degree call time', 'execution time', 'h_index_time', 'init time', 'inner iteration', 'memory taken', 'neighborhood call time', 'num bucket update', 'num degree computation', 'num neighborhood computation', 'num subgraph call', 'num_threads', 'outerloop time', 'param_s', 'reduction_in_hhat', 'subgraph computation time', 'sum_core_correction_volume', 'tau', 'total iteration']\n",
    "\n",
    "# Includes h-indextime\n",
    "# df.columns = ['algo', 'bucket update time', 'core', 'core_correction time', 'dataset', 'degree call time', 'execution time', 'h_index_time', 'init time', 'inner iteration', 'memory taken', 'neighborhood call time', 'num bucket update', 'num degree computation', 'num neighborhood computation', 'num subgraph call', 'num_threads', 'outerloop time', 'param_s', 'subgraph computation time', 'total iteration']\n",
    "\n",
    "#Includes core-correctiontime (no h-index/core-numbers )\n",
    "# df.columns = ['algo', 'bucket update time', 'core_correction time', 'dataset', 'degree call time', 'execution time', 'init time', 'inner iteration', 'memory taken', 'neighborhood call time', 'num bucket update', 'num degree computation', 'num neighborhood computation', 'num subgraph call', 'num_threads', 'outerloop time', 'param_s', 'subgraph computation time', 'total iteration']\n",
    "\n",
    "#includes core numbers as well (but no h-index)\n",
    "# df.columns = ['algo', 'bucket update time', 'core', 'core_correction time', 'dataset', 'degree call time', 'execution time', 'init time', 'inner iteration', 'memory taken', 'neighborhood call time', 'num bucket update', 'num degree computation', 'num neighborhood computation', 'num subgraph call', 'num_threads', 'outerloop time', 'param_s', 'subgraph computation time', 'total iteration']\n",
    "\n",
    "# df.columns = ['algo', 'bucket update time', 'core', 'dataset', 'degree call time', 'execution time', 'init time', 'inner iteration', 'neighborhood call time', 'num bucket update', 'num degree computation', 'num neighborhood computation', 'num subgraph call', 'num_threads', 'outerloop time', 'param_s', 'subgraph computation time', 'total iteration']\n",
    "# df.columns = ['algo', 'bucket update time', 'core', 'dataset', 'degree call time', 'execution time', 'init time', 'inner iteration', 'memory taken', 'neighborhood call time', 'num bucket update', 'num degree computation', 'num neighborhood computation', 'num subgraph call', 'num_threads', 'outerloop time', 'param_s', 'subgraph computation time', 'total iteration']\n",
    "print(df.shape)\n",
    "# df.tail(10)"
   ]
  },
  {
   "cell_type": "code",
   "execution_count": 46,
   "metadata": {},
   "outputs": [],
   "source": [
    "# df = pd.concat([df,df2])\n",
    "# df.shape"
   ]
  },
  {
   "cell_type": "code",
   "execution_count": 6,
   "metadata": {},
   "outputs": [],
   "source": [
    "# # df = pd.read_csv(\"data/output/result.csv\", header=None)\n",
    "# df = pd.read_csv(output_folder+\"result.csv\")\n",
    "# df.columns = ['algo', 'bucket update time', 'core', 'dataset', 'degree call time', 'execution time', 'neighborhood call time', 'num bucket update', 'num degree computation', 'num neighborhood computation', 'param_s']\n",
    "# print(df.shape)\n",
    "# # df"
   ]
  },
  {
   "cell_type": "markdown",
   "metadata": {},
   "source": [
    "### sample plotting"
   ]
  },
  {
   "cell_type": "code",
   "execution_count": 24,
   "metadata": {},
   "outputs": [
    {
     "data": {
      "text/plain": [
       "<Figure size 504x288 with 0 Axes>"
      ]
     },
     "metadata": {},
     "output_type": "display_data"
    }
   ],
   "source": [
    "save = True\n",
    "\n",
    "\n",
    "sns.set(rc={'figure.figsize':(7,4)})\n",
    "sns.set_style(\"whitegrid\", {'axes.grid' : True})\n",
    "\n",
    "# columns = ['bucket update time', 'execution time', 'init time', 'inner iteration', 'memory taken', 'neighborhood call time', 'num bucket update', 'num neighborhood computation', 'num subgraph call', 'outerloop time',  'subgraph computation time', 'total iteration']\n",
    "# columns = ['execution time','Sum Core-correction vol', 'tau', 'h_index_time','core_correction time','memory taken','init time','outerloop time']\n",
    "columns = ['execution time','sum_core_correction_volume', 'tau']\n",
    "good_name = {\n",
    "    'bucket update time' : 'Bucket time (s)', \n",
    "    'execution time' : \"Time (s)\", \n",
    "    'neighborhood call time' : \"NB time (s)\", \n",
    "    'subgraph computation time' : \"Sub time(s)\",\n",
    "    'num bucket update' : \"#bucket\", \n",
    "    'num neighborhood computation' : \"#nb\",\n",
    "    'num subgraph call' : \"#subgraph\",\n",
    "    'outerloop time': \"outloop time(s)\",\n",
    "    'init time': 'init time(s)',\n",
    "    'total iteration': '#total iterations',\n",
    "    'inner iteration': '#inner iterations',\n",
    "    'memory taken': 'Memory(MB)',\n",
    "    'core_correction time': 'Core-corection time(s)',\n",
    "    'h_index_time': 'h-index time(s)',\n",
    "    'sum_core_correction_volume' : 'Sum Core-correction vol',\n",
    "    'tau': '#Iterations'\n",
    "    # 'num_threads' : '#Threads'\n",
    "}\n",
    "\n",
    "# NBR(1) adopts Arijits simplification to Bishwa's simplification.\n",
    "good_name_algo = {\n",
    "    'naive_nbr' : \"Peel\", \n",
    "    'improved_nbr_simple': \"E-Peel\", \n",
    "    'recursive_local_core': \"LOCAL(r)\",\n",
    "    'iterative_local_core': \"LOCAL(i)\",\n",
    "    'bst_local_core': \"LOCAL(b)\",\n",
    "    'improved_local_core': \"LOCAL(im)\",\n",
    "    'opt_local_core': \"LOCAL(o)\",\n",
    "    'par_local_core': \"LOCAL(p)\",\n",
    "    'improved2_nbr' : \"NBR(2)\",\n",
    "    'par_improved2_nbr' : \"pNBR(2)\",\n",
    "    'par_improved3_nbr' : \"pNBR(3)\",\n",
    "    'naive_degree' : \"DEG\"\n",
    "}\n",
    "\n",
    "# order=['Peel', 'E-Peel', 'LOCAL', 'LOCAL(i)','LOCAL(b)']\n",
    "order=['LOCAL(i)',\"LOCAL(o)\",\"E-Peel\", \"Peel\"]\n",
    "\n",
    "# ['NBR', 'NBR(1)', 'NBR1s', 'NBR(2)',\"pNBR(2)\",\"pNBR(3)\"]\n",
    "group_list = ['dataset']\n",
    "for key, item in df.groupby(group_list, as_index=False):\n",
    "    # key contains dataset\n",
    "    item['param_s'] = item['param_s'].astype(int)\n",
    "    item = item.replace({\"algo\": good_name_algo})\n",
    "    for y_axis in columns:\n",
    "\n",
    "        sns.barplot(x='algo', y=y_axis, data=item, palette='colorblind', order=order )\n",
    "        plt.xlabel('Algorithm', fontsize=fontsize)\n",
    "        plt.ylabel(good_name[y_axis], fontsize=fontsize)\n",
    "        # plt.yscale(\"log\")\n",
    "        plt.xticks(fontsize=labelsize)\n",
    "        plt.yticks(fontsize=labelsize)\n",
    "        plt.title(key)\n",
    "        plt.tight_layout()\n",
    "        filename = (key + \" \" + y_axis).replace(\" \", \"_\")\n",
    "        if(save):\n",
    "            plt.savefig(output_folder+\"fig/\" + filename + \".pdf\")\n",
    "        else:\n",
    "            print(filename)\n",
    "            plt.show()\n",
    "        plt.clf()\n",
    "\n",
    "    # Commnet out following to see full results\n",
    "    if(not save):\n",
    "        break"
   ]
  },
  {
   "cell_type": "markdown",
   "metadata": {},
   "source": [
    "### Effect of parameter \"s\" in improved2_nbr"
   ]
  },
  {
   "cell_type": "code",
   "execution_count": 143,
   "metadata": {},
   "outputs": [
    {
     "data": {
      "text/plain": [
       "<Figure size 504x288 with 0 Axes>"
      ]
     },
     "metadata": {},
     "output_type": "display_data"
    }
   ],
   "source": [
    "save = True\n",
    "\n",
    "if(save):\n",
    "    os.system(\"mkdir -p \" + output_folder+\"fig/param_s/\" )\n",
    "\n",
    "group_list = ['dataset']\n",
    "for key, item in df[df['algo'] == 'improved2_nbr'].groupby(group_list, as_index=False):\n",
    "    \n",
    "    # key contains dataset\n",
    "    item['param_s'] = item['param_s'].astype(int)\n",
    "\n",
    "    for y_axis in ['bucket update time', 'execution time', 'neighborhood call time', 'num bucket update', 'num neighborhood computation','subgraph computation time','outerloop time', 'init time']:\n",
    "\n",
    "        sns.barplot(x='param_s', y=y_axis, data=item, palette='colorblind')\n",
    "        plt.xlabel(r'$s$', fontsize=fontsize)\n",
    "        plt.ylabel(good_name[y_axis], fontsize=fontsize)\n",
    "        # plt.yscale(\"log\")\n",
    "        # plt.xticks(rotation=45)\n",
    "        plt.xticks(fontsize=labelsize)\n",
    "        plt.yticks(fontsize=labelsize)\n",
    "\n",
    "        plt.title(key)\n",
    "        # plt.legend(loc='best', fontsize=labelsize-4)\n",
    "        plt.tight_layout()\n",
    "        filename = (key + \" param_s \" + y_axis).replace(\" \", \"_\")\n",
    "        if(save):\n",
    "            plt.savefig(output_folder+\"fig/param_s/\" + filename + \".pdf\")\n",
    "        else:\n",
    "            print(filename)\n",
    "            plt.show()\n",
    "        plt.clf()\n",
    "\n",
    "    # Commnet out following to see full results\n",
    "    if(not save):\n",
    "        break\n"
   ]
  },
  {
   "cell_type": "markdown",
   "metadata": {},
   "source": [
    "### Effect of threads for parallel algorithms"
   ]
  },
  {
   "cell_type": "code",
   "execution_count": 4,
   "metadata": {},
   "outputs": [
    {
     "data": {
      "text/plain": [
       "<Figure size 504x288 with 0 Axes>"
      ]
     },
     "metadata": {},
     "output_type": "display_data"
    }
   ],
   "source": [
    "save = True\n",
    "sns.set(rc={'figure.figsize':(7,4)})\n",
    "if(save):\n",
    "    os.system(\"mkdir -p \" + output_folder+\"fig/num_threads/\" )\n",
    "\n",
    "# algorithms = ['par_improved2_nbr', 'par_improved3_nbr']\n",
    "algorithms = ['par_local_core']\n",
    "group_list = ['dataset','algo']\n",
    "for key, item in df[df['algo'].isin(algorithms)].groupby(group_list, as_index=False):\n",
    "    # key contains dataset\n",
    "    item['num_threads'] = item['num_threads'].astype(int)\n",
    "    \n",
    "    for y_axis in ['bucket update time', 'execution time', 'neighborhood call time', 'num bucket update', 'num neighborhood computation','subgraph computation time','outerloop time', 'init time']:\n",
    "        sns.barplot(x='num_threads', y=y_axis, data=item, palette='colorblind')\n",
    "        plt.xlabel('#Threads', fontsize=fontsize)\n",
    "        plt.ylabel(y_axis, fontsize=fontsize)\n",
    "        # plt.yscale(\"log\")\n",
    "        # plt.xticks(rotation=45)\n",
    "        plt.xticks(fontsize=labelsize)\n",
    "        plt.yticks(fontsize=labelsize)\n",
    "        # print(key)\n",
    "        plt.title(key[0] + \"_\" + good_name_algo[key[1]])\n",
    "        plt.title(key)\n",
    "        # plt.legend(loc='best', fontsize=labelsize-4)\n",
    "        plt.tight_layout()\n",
    "        filename = (key[0] + \"_\" + good_name_algo[key[1]] + \" num threads \" + y_axis).replace(\" \", \"_\")\n",
    "        # filename = key+\"_\"+y_axis\n",
    "        if(save):\n",
    "            plt.savefig(output_folder+\"fig/num_threads/\" + filename + \".pdf\")\n",
    "        else:\n",
    "            print(filename)\n",
    "            plt.show()\n",
    "        plt.clf()\n",
    "\n",
    "    # Commnet out following to see full results\n",
    "    if(not save):\n",
    "        break\n"
   ]
  },
  {
   "cell_type": "markdown",
   "metadata": {},
   "source": [
    "### Effect of threads for parallel algorithms (multiple barplots)\n",
    "--------------"
   ]
  },
  {
   "cell_type": "code",
   "execution_count": 150,
   "metadata": {},
   "outputs": [
    {
     "data": {
      "text/plain": [
       "<Figure size 504x288 with 0 Axes>"
      ]
     },
     "metadata": {},
     "output_type": "display_data"
    }
   ],
   "source": [
    "save = True\n",
    "sns.set(rc={'figure.figsize':(7,4)})\n",
    "if(save):\n",
    "    os.system(\"mkdir -p \" + output_folder+\"fig/num_threads/\" )\n",
    "\n",
    "\n",
    "group_list = ['dataset']\n",
    "for key, item in df[df['algo'].isin(['par_improved2_nbr', 'par_improved3_nbr'])].groupby(group_list, as_index=False):\n",
    "    # key contains dataset\n",
    "    item['num_threads'] = item['num_threads'].astype(int)\n",
    "    \n",
    "    for y_axis in ['bucket update time', 'execution time', 'neighborhood call time', 'num bucket update', 'num neighborhood computation','subgraph computation time','outerloop time', 'init time']:\n",
    "        dat = item[['num_threads',y_axis,'algo']]\n",
    "        dat = dat.melt(id_vars=['num_threads','algo'])\n",
    "        # print(dat.head(10))\n",
    "        # break\n",
    "        sns.barplot(x='num_threads', y='value', hue='algo', data= dat, palette='colorblind')\n",
    "        # sns.barplot(x='num_threads', y=y_axis, data=item, palette='colorblind')\n",
    "        plt.xlabel('#Threads', fontsize=fontsize)\n",
    "        plt.ylabel(y_axis, fontsize=fontsize)\n",
    "        # plt.yscale(\"log\")\n",
    "        # plt.xticks(rotation=45)\n",
    "        plt.xticks(fontsize=labelsize)\n",
    "        plt.yticks(fontsize=labelsize)\n",
    "        # print(key)\n",
    "        # plt.title(key[0] + \"_\" + good_name_algo[key[1]])\n",
    "        plt.title(key)\n",
    "        # plt.legend(loc='best', fontsize=labelsize-4)\n",
    "        plt.tight_layout()\n",
    "        # filename = (key[0] + \"_\" + good_name_algo[key[1]] + \" num threads \" + y_axis).replace(\" \", \"_\")\n",
    "        filename = key+\"_\"+y_axis\n",
    "        if(save):\n",
    "            plt.savefig(output_folder+\"fig/num_threads/\" + filename + \".pdf\")\n",
    "        else:\n",
    "            print(filename)\n",
    "            plt.show()\n",
    "        plt.clf()\n",
    "\n",
    "    # Commnet out following to see full results\n",
    "    if(not save):\n",
    "        break"
   ]
  },
  {
   "cell_type": "code",
   "execution_count": 28,
   "metadata": {},
   "outputs": [
    {
     "data": {
      "text/plain": [
       "Index(['algo', 'bucket update time', 'core', 'dataset', 'degree call time',\n",
       "       'execution time', 'neighborhood call time', 'num bucket update',\n",
       "       'num degree computation', 'num neighborhood computation', 'param_s'],\n",
       "      dtype='object')"
      ]
     },
     "execution_count": 28,
     "metadata": {},
     "output_type": "execute_result"
    }
   ],
   "source": [
    "df.columns"
   ]
  },
  {
   "cell_type": "markdown",
   "metadata": {},
   "source": [
    "### statistics of run"
   ]
  },
  {
   "cell_type": "code",
   "execution_count": 30,
   "metadata": {},
   "outputs": [
    {
     "name": "stdout",
     "output_type": "stream",
     "text": [
      "('default', 'improved2_nbr', 16.0) 100\n",
      "('default', 'improved_nbr', 13.0) 100\n",
      "('default', 'naive_degree', 13.0) 100\n",
      "('default', 'naive_nbr', 1.0) 100\n"
     ]
    }
   ],
   "source": [
    "group_list = ['dataset', 'algo', 'param_s']\n",
    "for key, item in df.groupby(group_list, as_index=False):\n",
    "    print(key, item.shape[0])"
   ]
  },
  {
   "cell_type": "code",
   "execution_count": 31,
   "metadata": {},
   "outputs": [],
   "source": [
    "# df[(df['algo'] == \"improved2_nbr\") & (df['dataset'] == 'bin_4') & (df['param_s'] == 6)]"
   ]
  },
  {
   "cell_type": "markdown",
   "metadata": {},
   "source": [
    "%Time spent on subgraph computation\n",
    "-----------"
   ]
  },
  {
   "cell_type": "code",
   "execution_count": 24,
   "metadata": {},
   "outputs": [
    {
     "ename": "KeyError",
     "evalue": "'subgraph computation time'",
     "output_type": "error",
     "traceback": [
      "\u001b[0;31m---------------------------------------------------------------------------\u001b[0m",
      "\u001b[0;31mKeyError\u001b[0m                                  Traceback (most recent call last)",
      "\u001b[0;32m~/opt/anaconda3/envs/is36/lib/python3.6/site-packages/pandas/core/indexes/base.py\u001b[0m in \u001b[0;36mget_loc\u001b[0;34m(self, key, method, tolerance)\u001b[0m\n\u001b[1;32m   2894\u001b[0m             \u001b[0;32mtry\u001b[0m\u001b[0;34m:\u001b[0m\u001b[0;34m\u001b[0m\u001b[0;34m\u001b[0m\u001b[0m\n\u001b[0;32m-> 2895\u001b[0;31m                 \u001b[0;32mreturn\u001b[0m \u001b[0mself\u001b[0m\u001b[0;34m.\u001b[0m\u001b[0m_engine\u001b[0m\u001b[0;34m.\u001b[0m\u001b[0mget_loc\u001b[0m\u001b[0;34m(\u001b[0m\u001b[0mcasted_key\u001b[0m\u001b[0;34m)\u001b[0m\u001b[0;34m\u001b[0m\u001b[0;34m\u001b[0m\u001b[0m\n\u001b[0m\u001b[1;32m   2896\u001b[0m             \u001b[0;32mexcept\u001b[0m \u001b[0mKeyError\u001b[0m \u001b[0;32mas\u001b[0m \u001b[0merr\u001b[0m\u001b[0;34m:\u001b[0m\u001b[0;34m\u001b[0m\u001b[0;34m\u001b[0m\u001b[0m\n",
      "\u001b[0;32mpandas/_libs/index.pyx\u001b[0m in \u001b[0;36mpandas._libs.index.IndexEngine.get_loc\u001b[0;34m()\u001b[0m\n",
      "\u001b[0;32mpandas/_libs/index.pyx\u001b[0m in \u001b[0;36mpandas._libs.index.IndexEngine.get_loc\u001b[0;34m()\u001b[0m\n",
      "\u001b[0;32mpandas/_libs/hashtable_class_helper.pxi\u001b[0m in \u001b[0;36mpandas._libs.hashtable.PyObjectHashTable.get_item\u001b[0;34m()\u001b[0m\n",
      "\u001b[0;32mpandas/_libs/hashtable_class_helper.pxi\u001b[0m in \u001b[0;36mpandas._libs.hashtable.PyObjectHashTable.get_item\u001b[0;34m()\u001b[0m\n",
      "\u001b[0;31mKeyError\u001b[0m: 'subgraph computation time'",
      "\nThe above exception was the direct cause of the following exception:\n",
      "\u001b[0;31mKeyError\u001b[0m                                  Traceback (most recent call last)",
      "\u001b[0;32m<ipython-input-24-06ace336dd87>\u001b[0m in \u001b[0;36m<module>\u001b[0;34m\u001b[0m\n\u001b[1;32m     27\u001b[0m \u001b[0;34m\u001b[0m\u001b[0m\n\u001b[1;32m     28\u001b[0m \u001b[0;34m\u001b[0m\u001b[0m\n\u001b[0;32m---> 29\u001b[0;31m \u001b[0mdf\u001b[0m\u001b[0;34m[\u001b[0m\u001b[0;34m'ratio(subg.time,total)'\u001b[0m\u001b[0;34m]\u001b[0m \u001b[0;34m=\u001b[0m \u001b[0mdf\u001b[0m\u001b[0;34m[\u001b[0m\u001b[0;34m'subgraph computation time'\u001b[0m\u001b[0;34m]\u001b[0m\u001b[0;34m/\u001b[0m\u001b[0mdf\u001b[0m\u001b[0;34m[\u001b[0m\u001b[0;34m'execution time'\u001b[0m\u001b[0;34m]\u001b[0m\u001b[0;34m\u001b[0m\u001b[0;34m\u001b[0m\u001b[0m\n\u001b[0m\u001b[1;32m     30\u001b[0m \u001b[0mgroup_list\u001b[0m \u001b[0;34m=\u001b[0m \u001b[0;34m[\u001b[0m\u001b[0;34m'dataset'\u001b[0m\u001b[0;34m]\u001b[0m\u001b[0;34m\u001b[0m\u001b[0;34m\u001b[0m\u001b[0m\n\u001b[1;32m     31\u001b[0m \u001b[0;32mfor\u001b[0m \u001b[0mkey\u001b[0m\u001b[0;34m,\u001b[0m \u001b[0mitem\u001b[0m \u001b[0;32min\u001b[0m \u001b[0mdf\u001b[0m\u001b[0;34m.\u001b[0m\u001b[0mgroupby\u001b[0m\u001b[0;34m(\u001b[0m\u001b[0mgroup_list\u001b[0m\u001b[0;34m,\u001b[0m \u001b[0mas_index\u001b[0m\u001b[0;34m=\u001b[0m\u001b[0;32mFalse\u001b[0m\u001b[0;34m)\u001b[0m\u001b[0;34m:\u001b[0m\u001b[0;34m\u001b[0m\u001b[0;34m\u001b[0m\u001b[0m\n",
      "\u001b[0;32m~/opt/anaconda3/envs/is36/lib/python3.6/site-packages/pandas/core/frame.py\u001b[0m in \u001b[0;36m__getitem__\u001b[0;34m(self, key)\u001b[0m\n\u001b[1;32m   2900\u001b[0m             \u001b[0;32mif\u001b[0m \u001b[0mself\u001b[0m\u001b[0;34m.\u001b[0m\u001b[0mcolumns\u001b[0m\u001b[0;34m.\u001b[0m\u001b[0mnlevels\u001b[0m \u001b[0;34m>\u001b[0m \u001b[0;36m1\u001b[0m\u001b[0;34m:\u001b[0m\u001b[0;34m\u001b[0m\u001b[0;34m\u001b[0m\u001b[0m\n\u001b[1;32m   2901\u001b[0m                 \u001b[0;32mreturn\u001b[0m \u001b[0mself\u001b[0m\u001b[0;34m.\u001b[0m\u001b[0m_getitem_multilevel\u001b[0m\u001b[0;34m(\u001b[0m\u001b[0mkey\u001b[0m\u001b[0;34m)\u001b[0m\u001b[0;34m\u001b[0m\u001b[0;34m\u001b[0m\u001b[0m\n\u001b[0;32m-> 2902\u001b[0;31m             \u001b[0mindexer\u001b[0m \u001b[0;34m=\u001b[0m \u001b[0mself\u001b[0m\u001b[0;34m.\u001b[0m\u001b[0mcolumns\u001b[0m\u001b[0;34m.\u001b[0m\u001b[0mget_loc\u001b[0m\u001b[0;34m(\u001b[0m\u001b[0mkey\u001b[0m\u001b[0;34m)\u001b[0m\u001b[0;34m\u001b[0m\u001b[0;34m\u001b[0m\u001b[0m\n\u001b[0m\u001b[1;32m   2903\u001b[0m             \u001b[0;32mif\u001b[0m \u001b[0mis_integer\u001b[0m\u001b[0;34m(\u001b[0m\u001b[0mindexer\u001b[0m\u001b[0;34m)\u001b[0m\u001b[0;34m:\u001b[0m\u001b[0;34m\u001b[0m\u001b[0;34m\u001b[0m\u001b[0m\n\u001b[1;32m   2904\u001b[0m                 \u001b[0mindexer\u001b[0m \u001b[0;34m=\u001b[0m \u001b[0;34m[\u001b[0m\u001b[0mindexer\u001b[0m\u001b[0;34m]\u001b[0m\u001b[0;34m\u001b[0m\u001b[0;34m\u001b[0m\u001b[0m\n",
      "\u001b[0;32m~/opt/anaconda3/envs/is36/lib/python3.6/site-packages/pandas/core/indexes/base.py\u001b[0m in \u001b[0;36mget_loc\u001b[0;34m(self, key, method, tolerance)\u001b[0m\n\u001b[1;32m   2895\u001b[0m                 \u001b[0;32mreturn\u001b[0m \u001b[0mself\u001b[0m\u001b[0;34m.\u001b[0m\u001b[0m_engine\u001b[0m\u001b[0;34m.\u001b[0m\u001b[0mget_loc\u001b[0m\u001b[0;34m(\u001b[0m\u001b[0mcasted_key\u001b[0m\u001b[0;34m)\u001b[0m\u001b[0;34m\u001b[0m\u001b[0;34m\u001b[0m\u001b[0m\n\u001b[1;32m   2896\u001b[0m             \u001b[0;32mexcept\u001b[0m \u001b[0mKeyError\u001b[0m \u001b[0;32mas\u001b[0m \u001b[0merr\u001b[0m\u001b[0;34m:\u001b[0m\u001b[0;34m\u001b[0m\u001b[0;34m\u001b[0m\u001b[0m\n\u001b[0;32m-> 2897\u001b[0;31m                 \u001b[0;32mraise\u001b[0m \u001b[0mKeyError\u001b[0m\u001b[0;34m(\u001b[0m\u001b[0mkey\u001b[0m\u001b[0;34m)\u001b[0m \u001b[0;32mfrom\u001b[0m \u001b[0merr\u001b[0m\u001b[0;34m\u001b[0m\u001b[0;34m\u001b[0m\u001b[0m\n\u001b[0m\u001b[1;32m   2898\u001b[0m \u001b[0;34m\u001b[0m\u001b[0m\n\u001b[1;32m   2899\u001b[0m         \u001b[0;32mif\u001b[0m \u001b[0mtolerance\u001b[0m \u001b[0;32mis\u001b[0m \u001b[0;32mnot\u001b[0m \u001b[0;32mNone\u001b[0m\u001b[0;34m:\u001b[0m\u001b[0;34m\u001b[0m\u001b[0;34m\u001b[0m\u001b[0m\n",
      "\u001b[0;31mKeyError\u001b[0m: 'subgraph computation time'"
     ]
    }
   ],
   "source": [
    "save = True\n",
    "\n",
    "\n",
    "sns.set(rc={'figure.figsize':(5,4)})\n",
    "sns.set_style(\"whitegrid\", {'axes.grid' : True})\n",
    "\n",
    "\n",
    "\n",
    "good_name = {\n",
    "    'bucket update time' : 'Bucket time (s)', \n",
    "    'execution time' : \"Time (s)\", \n",
    "    'neighborhood call time' : \"NB time (s)\", \n",
    "    'subgraph computation time' : \"Sub time(s)\",\n",
    "    'num bucket update' : \"#bucket\", \n",
    "    'num neighborhood computation' : \"#nb\",\n",
    "    'num subgraph call' : \"#subgraph\",\n",
    "    'ratio(subg.time,total)': \"subgtime/total\"\n",
    "}\n",
    "\n",
    "good_name_algo = {\n",
    "    'naive_nbr' : \"NBR\", \n",
    "    'improved_nbr' : \"NBR(1)\", \n",
    "    'improved2_nbr' : \"NBR(2)\",\n",
    "    'naive_degree' : \"DEG\"\n",
    "}\n",
    "\n",
    "\n",
    "\n",
    "df['ratio(subg.time,total)'] = df['subgraph computation time']/df['execution time']\n",
    "group_list = ['dataset']\n",
    "for key, item in df.groupby(group_list, as_index=False):\n",
    "    # key contains dataset\n",
    "    item['param_s'] = item['param_s'].astype(int)\n",
    "    item = item.replace({\"algo\": good_name_algo})\n",
    "    # item['ratio(subg.time,total)'] = item['subgraph computation time']/item['execution time']\n",
    "    # print(item[['execution time',  'subgraph computation time','ratio(subg.time,total)']].head())\n",
    "    for y_axis in ['ratio(subg.time,total)']:\n",
    "\n",
    "        sns.barplot(x='algo', y=y_axis, data=item, palette='colorblind', order=['NBR', 'NBR(1)', 'NBR(2)'])\n",
    "        plt.xlabel('Algorithm', fontsize=fontsize)\n",
    "        plt.ylabel(good_name[y_axis], fontsize=fontsize)\n",
    "        # plt.yscale(\"log\")\n",
    "        plt.xticks(fontsize=labelsize)\n",
    "        plt.yticks(fontsize=labelsize)\n",
    "        plt.title(key)\n",
    "        plt.tight_layout()\n",
    "        filename = (key + \" \" + y_axis).replace(\" \", \"_\")\n",
    "        if(save):\n",
    "            plt.savefig(output_folder+\"fig/\" + filename + \".pdf\")\n",
    "        else:\n",
    "            print(filename)\n",
    "            plt.show()\n",
    "        plt.clf()\n",
    "\n",
    "    # Commnet out following to see full results\n",
    "    if(not save):\n",
    "        break"
   ]
  },
  {
   "cell_type": "markdown",
   "metadata": {},
   "source": [
    "Distribution of core-numbers.\n",
    "-----------"
   ]
  },
  {
   "cell_type": "code",
   "execution_count": 90,
   "metadata": {},
   "outputs": [],
   "source": [
    "import ast\n",
    "\n",
    "# save = True\n",
    "\n",
    "\n",
    "sns.set(rc={'figure.figsize':(5,4)})\n",
    "sns.set_style(\"whitegrid\", {'axes.grid' : True})\n",
    "\n",
    "\n",
    "\n",
    "good_name = {\n",
    "    'bucket update time' : 'Bucket time (s)', \n",
    "    'execution time' : \"Time (s)\", \n",
    "    'neighborhood call time' : \"NB time (s)\", \n",
    "    'subgraph computation time' : \"Sub time(s)\",\n",
    "    'num bucket update' : \"#bucket\", \n",
    "    'num neighborhood computation' : \"#nb\",\n",
    "    'num subgraph call' : \"#subgraph\"\n",
    "}\n",
    "\n",
    "good_name_algo = {\n",
    "    'naive_nbr' : \"NBR\", \n",
    "    'improved_nbr' : \"NBR(1)\", \n",
    "    'improved2_nbr' : \"NBR(2)\",\n",
    "    'naive_degree' : \"DEG\"\n",
    "}\n",
    "\n",
    "group_list = ['dataset']\n",
    "\n",
    "for key, item in df.groupby(group_list, as_index=False):\n",
    "    # key contains dataset\n",
    "    # item['param_s'] = item['param_s'].astype(int)\n",
    "    item = item.replace({\"algo\": good_name_algo})\n",
    "    \n",
    "    nbr_distr = {}\n",
    "    core = ast.literal_eval(item[item['algo'] == 'NBR'].iloc[0].core)\n",
    "    N = len(core)\n",
    "    for node_id, core_num in core.items():\n",
    "        nbr_distr[core_num] = nbr_distr.get(core_num,0) + 1/N \n",
    "    \n",
    "    x = range(1,max(nbr_distr.keys())+1)\n",
    "    y = [ nbr_distr.get(i,0) for i in x]\n",
    "    plt.figure(figsize=(6,4))\n",
    "    plt.plot(x,y, marker = 'o')\n",
    "    plt.xlabel('nbr-core number')\n",
    "    plt.ylabel('fraction of vertices')\n",
    "    plt.title(key)\n",
    "    plt.savefig(output_folder+\"fig/\"+'nbrcore_'+key+'.pdf',bbox_inches = 'tight')\n",
    "    plt.close() \n",
    "\n",
    "    deg_distr = {}\n",
    "    core = ast.literal_eval(item[item['algo'] == 'DEG'].iloc[0].core)\n",
    "    N = len(core)\n",
    "    for node_id, core_num in core.items():\n",
    "        deg_distr[core_num] = deg_distr.get(core_num,0)+ 1/N \n",
    "    x = range(1,max(deg_distr.keys())+1)\n",
    "    y = [ deg_distr.get(i,0) for i in x]\n",
    "    plt.figure(figsize=(6,4))\n",
    "    plt.plot(x,y,marker = 'o')\n",
    "    plt.xlabel('deg-core number')\n",
    "    plt.ylabel('fraction of vertices')\n",
    "    plt.title(key)\n",
    "    plt.savefig(output_folder+\"fig/\"+'degcore_'+key+'.pdf',bbox_inches = 'tight')\n",
    "    plt.close()\n",
    "    # for y_axis in ['bucket update time', 'execution time', 'neighborhood call time', 'num bucket update', 'num neighborhood computation', 'subgraph computation time', 'num subgraph call']:\n",
    "\n",
    "    #     sns.barplot(x='algo', y=y_axis, data=item, palette='colorblind', order=['NBR', 'NBR(1)', 'NBR(2)'])\n",
    "    #     plt.xlabel('Algorithm', fontsize=fontsize)\n",
    "    #     plt.ylabel(good_name[y_axis], fontsize=fontsize)\n",
    "    #     # plt.yscale(\"log\")\n",
    "    #     plt.xticks(fontsize=labelsize)\n",
    "    #     plt.yticks(fontsize=labelsize)\n",
    "    #     plt.title(key)\n",
    "    #     plt.tight_layout()\n",
    "    #     filename = (key + \" \" + y_axis).replace(\" \", \"_\")\n",
    "    #     if(save):\n",
    "    #         plt.savefig(output_folder+\"fig/\" + filename + \".pdf\")\n",
    "    #     else:\n",
    "    #         print(filename)\n",
    "    #         plt.show()\n",
    "    #     plt.clf()\n",
    "\n",
    "    # Commnet out following to see full results\n",
    "    # if(not save):\n",
    "    #     break"
   ]
  },
  {
   "cell_type": "code",
   "execution_count": 5,
   "metadata": {},
   "outputs": [
    {
     "data": {
      "text/plain": [
       "str"
      ]
     },
     "execution_count": 5,
     "metadata": {},
     "output_type": "execute_result"
    }
   ],
   "source": []
  },
  {
   "cell_type": "code",
   "execution_count": 4,
   "metadata": {},
   "outputs": [
    {
     "ename": "IndexError",
     "evalue": "single positional indexer is out-of-bounds",
     "output_type": "error",
     "traceback": [
      "\u001b[0;31m---------------------------------------------------------------------------\u001b[0m",
      "\u001b[0;31mIndexError\u001b[0m                                Traceback (most recent call last)",
      "\u001b[0;32m<ipython-input-4-49b36bc38aee>\u001b[0m in \u001b[0;36m<module>\u001b[0;34m\u001b[0m\n\u001b[0;32m----> 1\u001b[0;31m \u001b[0mdf\u001b[0m\u001b[0;34m.\u001b[0m\u001b[0miloc\u001b[0m\u001b[0;34m[\u001b[0m\u001b[0;36m1\u001b[0m\u001b[0;34m]\u001b[0m\u001b[0;34m.\u001b[0m\u001b[0mcore\u001b[0m\u001b[0;34m\u001b[0m\u001b[0;34m\u001b[0m\u001b[0m\n\u001b[0m",
      "\u001b[0;32m~/opt/anaconda3/envs/is36/lib/python3.6/site-packages/pandas/core/indexing.py\u001b[0m in \u001b[0;36m__getitem__\u001b[0;34m(self, key)\u001b[0m\n\u001b[1;32m    877\u001b[0m \u001b[0;34m\u001b[0m\u001b[0m\n\u001b[1;32m    878\u001b[0m             \u001b[0mmaybe_callable\u001b[0m \u001b[0;34m=\u001b[0m \u001b[0mcom\u001b[0m\u001b[0;34m.\u001b[0m\u001b[0mapply_if_callable\u001b[0m\u001b[0;34m(\u001b[0m\u001b[0mkey\u001b[0m\u001b[0;34m,\u001b[0m \u001b[0mself\u001b[0m\u001b[0;34m.\u001b[0m\u001b[0mobj\u001b[0m\u001b[0;34m)\u001b[0m\u001b[0;34m\u001b[0m\u001b[0;34m\u001b[0m\u001b[0m\n\u001b[0;32m--> 879\u001b[0;31m             \u001b[0;32mreturn\u001b[0m \u001b[0mself\u001b[0m\u001b[0;34m.\u001b[0m\u001b[0m_getitem_axis\u001b[0m\u001b[0;34m(\u001b[0m\u001b[0mmaybe_callable\u001b[0m\u001b[0;34m,\u001b[0m \u001b[0maxis\u001b[0m\u001b[0;34m=\u001b[0m\u001b[0maxis\u001b[0m\u001b[0;34m)\u001b[0m\u001b[0;34m\u001b[0m\u001b[0;34m\u001b[0m\u001b[0m\n\u001b[0m\u001b[1;32m    880\u001b[0m \u001b[0;34m\u001b[0m\u001b[0m\n\u001b[1;32m    881\u001b[0m     \u001b[0;32mdef\u001b[0m \u001b[0m_is_scalar_access\u001b[0m\u001b[0;34m(\u001b[0m\u001b[0mself\u001b[0m\u001b[0;34m,\u001b[0m \u001b[0mkey\u001b[0m\u001b[0;34m:\u001b[0m \u001b[0mTuple\u001b[0m\u001b[0;34m)\u001b[0m\u001b[0;34m:\u001b[0m\u001b[0;34m\u001b[0m\u001b[0;34m\u001b[0m\u001b[0m\n",
      "\u001b[0;32m~/opt/anaconda3/envs/is36/lib/python3.6/site-packages/pandas/core/indexing.py\u001b[0m in \u001b[0;36m_getitem_axis\u001b[0;34m(self, key, axis)\u001b[0m\n\u001b[1;32m   1494\u001b[0m \u001b[0;34m\u001b[0m\u001b[0m\n\u001b[1;32m   1495\u001b[0m             \u001b[0;31m# validate the location\u001b[0m\u001b[0;34m\u001b[0m\u001b[0;34m\u001b[0m\u001b[0;34m\u001b[0m\u001b[0m\n\u001b[0;32m-> 1496\u001b[0;31m             \u001b[0mself\u001b[0m\u001b[0;34m.\u001b[0m\u001b[0m_validate_integer\u001b[0m\u001b[0;34m(\u001b[0m\u001b[0mkey\u001b[0m\u001b[0;34m,\u001b[0m \u001b[0maxis\u001b[0m\u001b[0;34m)\u001b[0m\u001b[0;34m\u001b[0m\u001b[0;34m\u001b[0m\u001b[0m\n\u001b[0m\u001b[1;32m   1497\u001b[0m \u001b[0;34m\u001b[0m\u001b[0m\n\u001b[1;32m   1498\u001b[0m             \u001b[0;32mreturn\u001b[0m \u001b[0mself\u001b[0m\u001b[0;34m.\u001b[0m\u001b[0mobj\u001b[0m\u001b[0;34m.\u001b[0m\u001b[0m_ixs\u001b[0m\u001b[0;34m(\u001b[0m\u001b[0mkey\u001b[0m\u001b[0;34m,\u001b[0m \u001b[0maxis\u001b[0m\u001b[0;34m=\u001b[0m\u001b[0maxis\u001b[0m\u001b[0;34m)\u001b[0m\u001b[0;34m\u001b[0m\u001b[0;34m\u001b[0m\u001b[0m\n",
      "\u001b[0;32m~/opt/anaconda3/envs/is36/lib/python3.6/site-packages/pandas/core/indexing.py\u001b[0m in \u001b[0;36m_validate_integer\u001b[0;34m(self, key, axis)\u001b[0m\n\u001b[1;32m   1435\u001b[0m         \u001b[0mlen_axis\u001b[0m \u001b[0;34m=\u001b[0m \u001b[0mlen\u001b[0m\u001b[0;34m(\u001b[0m\u001b[0mself\u001b[0m\u001b[0;34m.\u001b[0m\u001b[0mobj\u001b[0m\u001b[0;34m.\u001b[0m\u001b[0m_get_axis\u001b[0m\u001b[0;34m(\u001b[0m\u001b[0maxis\u001b[0m\u001b[0;34m)\u001b[0m\u001b[0;34m)\u001b[0m\u001b[0;34m\u001b[0m\u001b[0;34m\u001b[0m\u001b[0m\n\u001b[1;32m   1436\u001b[0m         \u001b[0;32mif\u001b[0m \u001b[0mkey\u001b[0m \u001b[0;34m>=\u001b[0m \u001b[0mlen_axis\u001b[0m \u001b[0;32mor\u001b[0m \u001b[0mkey\u001b[0m \u001b[0;34m<\u001b[0m \u001b[0;34m-\u001b[0m\u001b[0mlen_axis\u001b[0m\u001b[0;34m:\u001b[0m\u001b[0;34m\u001b[0m\u001b[0;34m\u001b[0m\u001b[0m\n\u001b[0;32m-> 1437\u001b[0;31m             \u001b[0;32mraise\u001b[0m \u001b[0mIndexError\u001b[0m\u001b[0;34m(\u001b[0m\u001b[0;34m\"single positional indexer is out-of-bounds\"\u001b[0m\u001b[0;34m)\u001b[0m\u001b[0;34m\u001b[0m\u001b[0;34m\u001b[0m\u001b[0m\n\u001b[0m\u001b[1;32m   1438\u001b[0m \u001b[0;34m\u001b[0m\u001b[0m\n\u001b[1;32m   1439\u001b[0m     \u001b[0;31m# -------------------------------------------------------------------\u001b[0m\u001b[0;34m\u001b[0m\u001b[0;34m\u001b[0m\u001b[0;34m\u001b[0m\u001b[0m\n",
      "\u001b[0;31mIndexError\u001b[0m: single positional indexer is out-of-bounds"
     ]
    }
   ],
   "source": [
    "df.iloc[1].core"
   ]
  },
  {
   "cell_type": "markdown",
   "metadata": {},
   "source": [
    "dummy cell"
   ]
  },
  {
   "cell_type": "code",
   "execution_count": null,
   "metadata": {},
   "outputs": [],
   "source": []
  },
  {
   "cell_type": "code",
   "execution_count": null,
   "metadata": {},
   "outputs": [],
   "source": []
  },
  {
   "cell_type": "markdown",
   "metadata": {},
   "source": [
    "Pandemic propagation results"
   ]
  },
  {
   "cell_type": "markdown",
   "metadata": {},
   "source": []
  },
  {
   "cell_type": "code",
   "execution_count": 1,
   "metadata": {},
   "outputs": [],
   "source": [
    "import pandas as pd\n",
    "import seaborn as sns\n",
    "%matplotlib inline\n",
    "import matplotlib.pyplot as plt\n",
    "import numpy as np\n",
    "import os\n",
    "from ast import literal_eval\n",
    "import shutil\n",
    "\n",
    "output_folder = 'data/output/'\n",
    "# if os.path.exists(output_folder+\"fig/\"):\n",
    "#     shutil.rmtree(output_folder+\"fig/\")\n",
    "# os.mkdir(output_folder+\"fig/\")\n",
    "\n",
    "fontsize = 18\n",
    "labelsize = 12"
   ]
  },
  {
   "cell_type": "code",
   "execution_count": 2,
   "metadata": {},
   "outputs": [
    {
     "name": "stdout",
     "output_type": "stream",
     "text": [
      "(42, 6)\n"
     ]
    },
    {
     "data": {
      "text/html": [
       "<div>\n",
       "<style scoped>\n",
       "    .dataframe tbody tr th:only-of-type {\n",
       "        vertical-align: middle;\n",
       "    }\n",
       "\n",
       "    .dataframe tbody tr th {\n",
       "        vertical-align: top;\n",
       "    }\n",
       "\n",
       "    .dataframe thead th {\n",
       "        text-align: right;\n",
       "    }\n",
       "</style>\n",
       "<table border=\"1\" class=\"dataframe\">\n",
       "  <thead>\n",
       "    <tr style=\"text-align: right;\">\n",
       "      <th></th>\n",
       "      <th>algo</th>\n",
       "      <th>dataset</th>\n",
       "      <th>exp2</th>\n",
       "      <th>p</th>\n",
       "      <th>result</th>\n",
       "      <th>timestep_results</th>\n",
       "    </tr>\n",
       "  </thead>\n",
       "  <tbody>\n",
       "    <tr>\n",
       "      <th>0</th>\n",
       "      <td>naive_degree</td>\n",
       "      <td>bin_1</td>\n",
       "      <td>0.0</td>\n",
       "      <td>0.3</td>\n",
       "      <td>{12: [1.0, 1.0, 1.0, 1.0, 1.0, 1.0, 1.0, 1.0, ...</td>\n",
       "      <td>NaN</td>\n",
       "    </tr>\n",
       "    <tr>\n",
       "      <th>1</th>\n",
       "      <td>naive_nbr</td>\n",
       "      <td>bin_1</td>\n",
       "      <td>0.0</td>\n",
       "      <td>0.3</td>\n",
       "      <td>{31: [1.0, 1.0, 1.0, 1.0, 1.0, 1.0, 1.0, 1.0, ...</td>\n",
       "      <td>NaN</td>\n",
       "    </tr>\n",
       "    <tr>\n",
       "      <th>2</th>\n",
       "      <td>naive_degree</td>\n",
       "      <td>bin_4</td>\n",
       "      <td>0.0</td>\n",
       "      <td>0.3</td>\n",
       "      <td>{13: [1.0, 1.0, 1.0, 1.0, 1.0, 1.0, 1.0, 1.0, ...</td>\n",
       "      <td>NaN</td>\n",
       "    </tr>\n",
       "    <tr>\n",
       "      <th>3</th>\n",
       "      <td>naive_nbr</td>\n",
       "      <td>bin_4</td>\n",
       "      <td>0.0</td>\n",
       "      <td>0.3</td>\n",
       "      <td>{23: [1.0, 1.0, 1.0, 1.0, 1.0, 1.0, 1.0, 1.0, ...</td>\n",
       "      <td>NaN</td>\n",
       "    </tr>\n",
       "    <tr>\n",
       "      <th>4</th>\n",
       "      <td>naive_degree</td>\n",
       "      <td>bin_4</td>\n",
       "      <td>1.0</td>\n",
       "      <td>0.3</td>\n",
       "      <td>NaN</td>\n",
       "      <td>{12: [3, 3, 2, 2, 3, 3, 2, 3, 2, 2, 2, 2, 3, 3...</td>\n",
       "    </tr>\n",
       "    <tr>\n",
       "      <th>5</th>\n",
       "      <td>naive_nbr</td>\n",
       "      <td>bin_4</td>\n",
       "      <td>1.0</td>\n",
       "      <td>0.3</td>\n",
       "      <td>NaN</td>\n",
       "      <td>{22: [3, 0, 2, 2, 2, 2, 3, 2, 2, 1, 3, 2, 3, 3...</td>\n",
       "    </tr>\n",
       "    <tr>\n",
       "      <th>6</th>\n",
       "      <td>naive_degree</td>\n",
       "      <td>bin_1</td>\n",
       "      <td>1.0</td>\n",
       "      <td>0.3</td>\n",
       "      <td>NaN</td>\n",
       "      <td>{11: [2, 3, 2, 2, 2, 2, 2, 2, 2, 2, 2, 3, 2, 3...</td>\n",
       "    </tr>\n",
       "    <tr>\n",
       "      <th>7</th>\n",
       "      <td>naive_nbr</td>\n",
       "      <td>bin_1</td>\n",
       "      <td>1.0</td>\n",
       "      <td>0.3</td>\n",
       "      <td>NaN</td>\n",
       "      <td>{29: [2, 2, 2, 2, 3, 2, 3, 2, 2, 3, 3, 2, 2, 2...</td>\n",
       "    </tr>\n",
       "    <tr>\n",
       "      <th>8</th>\n",
       "      <td>naive_nbr</td>\n",
       "      <td>bin_2</td>\n",
       "      <td>0.0</td>\n",
       "      <td>0.3</td>\n",
       "      <td>{186: [1.0, 1.0, 1.0, 1.0, 1.0, 1.0, 1.0, 1.0,...</td>\n",
       "      <td>NaN</td>\n",
       "    </tr>\n",
       "    <tr>\n",
       "      <th>9</th>\n",
       "      <td>naive_nbr</td>\n",
       "      <td>bin_5</td>\n",
       "      <td>0.0</td>\n",
       "      <td>0.3</td>\n",
       "      <td>{136: [1.0, 1.0, 1.0, 1.0, 1.0, 1.0, 1.0, 1.0,...</td>\n",
       "      <td>NaN</td>\n",
       "    </tr>\n",
       "    <tr>\n",
       "      <th>10</th>\n",
       "      <td>naive_degree</td>\n",
       "      <td>bin_2</td>\n",
       "      <td>0.0</td>\n",
       "      <td>0.3</td>\n",
       "      <td>{80: [1.0, 1.0, 1.0, 1.0, 1.0, 1.0, 1.0, 1.0, ...</td>\n",
       "      <td>NaN</td>\n",
       "    </tr>\n",
       "    <tr>\n",
       "      <th>11</th>\n",
       "      <td>naive_degree</td>\n",
       "      <td>bin_5</td>\n",
       "      <td>0.0</td>\n",
       "      <td>0.3</td>\n",
       "      <td>{81: [1.0, 1.0, 1.0, 1.0, 1.0, 1.0, 1.0, 1.0, ...</td>\n",
       "      <td>NaN</td>\n",
       "    </tr>\n",
       "    <tr>\n",
       "      <th>12</th>\n",
       "      <td>naive_nbr</td>\n",
       "      <td>bin_5</td>\n",
       "      <td>1.0</td>\n",
       "      <td>0.3</td>\n",
       "      <td>NaN</td>\n",
       "      <td>{135: [2, 1, 2, 2, 2, 2, 2, 1, 2, 2, 2, 2, 2, ...</td>\n",
       "    </tr>\n",
       "    <tr>\n",
       "      <th>13</th>\n",
       "      <td>naive_nbr</td>\n",
       "      <td>bin_2</td>\n",
       "      <td>1.0</td>\n",
       "      <td>0.3</td>\n",
       "      <td>NaN</td>\n",
       "      <td>{186: [2, 1, 2, 2, 2, 2, 2, 2, 2, 2, 2, 2, 2, ...</td>\n",
       "    </tr>\n",
       "    <tr>\n",
       "      <th>14</th>\n",
       "      <td>naive_nbr</td>\n",
       "      <td>contact</td>\n",
       "      <td>0.0</td>\n",
       "      <td>0.3</td>\n",
       "      <td>{47: [1.0, 1.0, 1.0, 1.0, 1.0, 1.0, 1.0, 1.0, ...</td>\n",
       "      <td>NaN</td>\n",
       "    </tr>\n",
       "  </tbody>\n",
       "</table>\n",
       "</div>"
      ],
      "text/plain": [
       "            algo  dataset  exp2    p  \\\n",
       "0   naive_degree    bin_1   0.0  0.3   \n",
       "1      naive_nbr    bin_1   0.0  0.3   \n",
       "2   naive_degree    bin_4   0.0  0.3   \n",
       "3      naive_nbr    bin_4   0.0  0.3   \n",
       "4   naive_degree    bin_4   1.0  0.3   \n",
       "5      naive_nbr    bin_4   1.0  0.3   \n",
       "6   naive_degree    bin_1   1.0  0.3   \n",
       "7      naive_nbr    bin_1   1.0  0.3   \n",
       "8      naive_nbr    bin_2   0.0  0.3   \n",
       "9      naive_nbr    bin_5   0.0  0.3   \n",
       "10  naive_degree    bin_2   0.0  0.3   \n",
       "11  naive_degree    bin_5   0.0  0.3   \n",
       "12     naive_nbr    bin_5   1.0  0.3   \n",
       "13     naive_nbr    bin_2   1.0  0.3   \n",
       "14     naive_nbr  contact   0.0  0.3   \n",
       "\n",
       "                                               result  \\\n",
       "0   {12: [1.0, 1.0, 1.0, 1.0, 1.0, 1.0, 1.0, 1.0, ...   \n",
       "1   {31: [1.0, 1.0, 1.0, 1.0, 1.0, 1.0, 1.0, 1.0, ...   \n",
       "2   {13: [1.0, 1.0, 1.0, 1.0, 1.0, 1.0, 1.0, 1.0, ...   \n",
       "3   {23: [1.0, 1.0, 1.0, 1.0, 1.0, 1.0, 1.0, 1.0, ...   \n",
       "4                                                 NaN   \n",
       "5                                                 NaN   \n",
       "6                                                 NaN   \n",
       "7                                                 NaN   \n",
       "8   {186: [1.0, 1.0, 1.0, 1.0, 1.0, 1.0, 1.0, 1.0,...   \n",
       "9   {136: [1.0, 1.0, 1.0, 1.0, 1.0, 1.0, 1.0, 1.0,...   \n",
       "10  {80: [1.0, 1.0, 1.0, 1.0, 1.0, 1.0, 1.0, 1.0, ...   \n",
       "11  {81: [1.0, 1.0, 1.0, 1.0, 1.0, 1.0, 1.0, 1.0, ...   \n",
       "12                                                NaN   \n",
       "13                                                NaN   \n",
       "14  {47: [1.0, 1.0, 1.0, 1.0, 1.0, 1.0, 1.0, 1.0, ...   \n",
       "\n",
       "                                     timestep_results  \n",
       "0                                                 NaN  \n",
       "1                                                 NaN  \n",
       "2                                                 NaN  \n",
       "3                                                 NaN  \n",
       "4   {12: [3, 3, 2, 2, 3, 3, 2, 3, 2, 2, 2, 2, 3, 3...  \n",
       "5   {22: [3, 0, 2, 2, 2, 2, 3, 2, 2, 1, 3, 2, 3, 3...  \n",
       "6   {11: [2, 3, 2, 2, 2, 2, 2, 2, 2, 2, 2, 3, 2, 3...  \n",
       "7   {29: [2, 2, 2, 2, 3, 2, 3, 2, 2, 3, 3, 2, 2, 2...  \n",
       "8                                                 NaN  \n",
       "9                                                 NaN  \n",
       "10                                                NaN  \n",
       "11                                                NaN  \n",
       "12  {135: [2, 1, 2, 2, 2, 2, 2, 1, 2, 2, 2, 2, 2, ...  \n",
       "13  {186: [2, 1, 2, 2, 2, 2, 2, 2, 2, 2, 2, 2, 2, ...  \n",
       "14                                                NaN  "
      ]
     },
     "execution_count": 2,
     "metadata": {},
     "output_type": "execute_result"
    }
   ],
   "source": [
    "df = pd.read_csv(output_folder + \"propagation_result.csv\", header=None)\n",
    "df.columns = ['algo', 'dataset', 'exp2', 'p', 'result', 'timestep_results']\n",
    "print(df.shape)\n",
    "df.head(15)\n"
   ]
  },
  {
   "cell_type": "code",
   "execution_count": 3,
   "metadata": {},
   "outputs": [],
   "source": [
    "# save = False\n",
    "\n",
    "# group_list = ['algo', 'dataset', 'p']\n",
    "# ignore_datasets = ['bin_1','bin_2','bin_4','bin_5', 'congress', 'contact']\n",
    "# # group_list = ['algo',  'p']\n",
    "# for key, item in df[df['exp2'] == False].groupby(group_list, as_index=False):\n",
    "#     # there should be only one result\n",
    "#     assert item.shape[0] == 1\n",
    "#     if item['dataset'].values[0] in ignore_datasets:\n",
    "#         continue\n",
    "#     result = literal_eval(item['result'].iloc[0])\n",
    "#     result = [(k, v) for k in result for v in result[k]]\n",
    "#     result_df = pd.DataFrame(result, columns = ['core number', 'infected'])\n",
    "    \n",
    "#     sns.barplot(x = 'core number', y = 'infected', data=result_df, palette='colorblind')\n",
    "#     # sns.ecdfplot(x = 'core number', y = 'infected', data=result_df, palette='colorblind')\n",
    "#     # sns.ecdfplot(data=result_df[['core number','infected']],x = 'core number', palette='colorblind')\n",
    "#     plt.xlabel('Core Number', fontsize=fontsize)\n",
    "#     plt.ylabel(\"Fraction of Infected\", fontsize=fontsize)\n",
    "#     plt.xticks(fontsize=labelsize,rotation=45)\n",
    "#     # plt.xticks()\n",
    "#     plt.yticks(fontsize=labelsize)\n",
    "#     plt.title(key)\n",
    "#     plt.tight_layout()\n",
    "#     filename = (\" \".join(map(str, key)) + \" propagation\").replace(\" \", \"_\").replace(\".\", \"\")\n",
    "#     if(save):\n",
    "#         plt.savefig(output_folder+\"fig/\" + filename + \".pdf\")\n",
    "#     else:\n",
    "#         print(filename)\n",
    "#         plt.show()\n",
    "#         break\n",
    "#     plt.clf()\n",
    "\n",
    "#     #Plot mean\n",
    "#     meandf = result_df.groupby('core number').mean().reset_index()\n",
    "#     sns.lineplot(x = 'core number', y = 'infected', data=meandf, color='k')\n",
    "#     plt.xlabel('Core number', fontsize=fontsize)\n",
    "#     plt.ylabel(\"Fraction of infected\", fontsize=fontsize)\n",
    "#     plt.xticks(fontsize=labelsize,rotation=45)\n",
    "#     # plt.xticks()\n",
    "#     plt.yticks(fontsize=labelsize)\n",
    "#     # plt.title(key)\n",
    "#     plt.tight_layout()\n",
    "#     filename = (\" \".join(map(str, key)) + \" propagation\").replace(\" \", \"_\").replace(\".\", \"\")\n",
    "#     if(save):\n",
    "#         plt.savefig(output_folder+\"fig/\" + filename + \"_mean.pdf\")\n",
    "#     else:\n",
    "#         print(filename)\n",
    "#         plt.show()\n",
    "#         break\n",
    "#     plt.clf()"
   ]
  },
  {
   "cell_type": "code",
   "execution_count": 4,
   "metadata": {},
   "outputs": [
    {
     "data": {
      "text/plain": [
       "<Figure size 432x288 with 0 Axes>"
      ]
     },
     "metadata": {},
     "output_type": "display_data"
    }
   ],
   "source": [
    "save = True\n",
    "\n",
    "\n",
    "\n",
    "ignore_datasets = ['bin_1','bin_2','bin_4','bin_5', 'congress', 'contact']\n",
    "group_list = ['dataset', 'p']\n",
    "goodname_algo = {\n",
    "        'graph_core': 'clique graph',\n",
    "        'naive_nbr': 'nbr-based hyp.',\n",
    "        'naive_degree': 'deg-based hyp.'\n",
    "    }\n",
    "\n",
    "# group_list = ['algo',  'p']\n",
    "for key, item in df[df['exp2'] == False].groupby(group_list, as_index=False):\n",
    "    if item['dataset'].values[0] in ignore_datasets:\n",
    "        continue\n",
    "\n",
    "\n",
    "    item['algo'] = item['algo'].replace(goodname_algo)\n",
    "    result_df = pd.DataFrame()\n",
    "    for algo in item['algo'].unique():\n",
    "        \n",
    "        assert item[item['algo'] == algo].shape[0] == 1\n",
    "        result = literal_eval(item[item['algo'] == algo]['result'].iloc[0])\n",
    "        result = [(k, v, algo) for k in result for v in result[k]]\n",
    "        result_df = result_df.append(pd.DataFrame(result, columns = ['core number', 'infected', 'algo']), ignore_index=False)\n",
    "        \n",
    "    # print(result_df)\n",
    "    \n",
    "    # sns.barplot(x = 'core number', y = 'infected', hue='algo', data=result_df, palette='colorblind')\n",
    "    # # sns.ecdfplot(x = 'core number', y = 'infected', data=result_df, palette='colorblind')\n",
    "    # # sns.ecdfplot(data=result_df[['core number','infected']],x = 'core number', palette='colorblind')\n",
    "    # plt.xlabel('Core Number', fontsize=fontsize)\n",
    "    # plt.ylabel(\"Fraction of Infected\", fontsize=fontsize)\n",
    "    # plt.xticks(fontsize=labelsize,rotation=45)\n",
    "    # # plt.xticks()\n",
    "    # plt.yticks(fontsize=labelsize)\n",
    "    # plt.title(key)\n",
    "    # plt.tight_layout()\n",
    "    # filename = (\" \".join(map(str, key)) + \" propagation\").replace(\" \", \"_\").replace(\".\", \"\")\n",
    "    # if(save):\n",
    "    #     plt.savefig(output_folder+\"fig/\" + filename + \"_all_algo.pdf\")\n",
    "    # else:\n",
    "    #     print(filename)\n",
    "    #     plt.show()\n",
    "    #     break\n",
    "    # plt.clf()\n",
    "\n",
    "    #Plot mean\n",
    "    meandf = result_df.groupby(['core number', 'algo']).mean().reset_index()\n",
    "    fig, ax = plt.subplots()\n",
    "    sns.lineplot(x = 'core number', y = 'infected', hue='algo', hue_order = ['clique graph', 'nbr-based hyp.', 'deg-based hyp.'], data=meandf, color='k')\n",
    "    \n",
    "    plt.xlabel('Core number', fontsize=fontsize)\n",
    "    plt.ylabel(\"Fraction of infected\", fontsize=fontsize)\n",
    "    plt.xticks(fontsize=labelsize)\n",
    "    # plt.xticks()\n",
    "    plt.yticks(fontsize=labelsize)\n",
    "    handles, labels = ax.get_legend_handles_labels()\n",
    "    ax.legend(handles=handles[1:], labels=labels[1:], fontsize=labelsize)\n",
    "    # plt.title(key)\n",
    "    plt.tight_layout()\n",
    "    filename = (\" \".join(map(str, key)) + \" propagation\").replace(\" \", \"_\").replace(\".\", \"\")\n",
    "    if(save):\n",
    "        plt.savefig(output_folder+\"fig/\" + filename + \"_mean_all_algo.pdf\")\n",
    "    else:\n",
    "        print(filename)\n",
    "        plt.show()\n",
    "        break\n",
    "    plt.clf()"
   ]
  },
  {
   "cell_type": "code",
   "execution_count": 7,
   "metadata": {},
   "outputs": [
    {
     "data": {
      "text/plain": [
       "array(['naive_degree', 'naive_nbr', 'graph_core'], dtype=object)"
      ]
     },
     "execution_count": 7,
     "metadata": {},
     "output_type": "execute_result"
    }
   ],
   "source": [
    "df[df['exp2'] == True]['algo'].unique()"
   ]
  },
  {
   "cell_type": "code",
   "execution_count": 28,
   "metadata": {},
   "outputs": [
    {
     "data": {
      "text/plain": [
       "<Figure size 432x288 with 0 Axes>"
      ]
     },
     "metadata": {},
     "output_type": "display_data"
    }
   ],
   "source": [
    "from matplotlib.ticker import MaxNLocator\n",
    "save = True\n",
    "\n",
    "\n",
    "group_list = ['algo', 'dataset', 'p']\n",
    "# group_list = ['algo',  'p']\n",
    "for key, item in df[df['exp2'] == True].groupby(group_list, as_index=False):\n",
    "    # there should be only one result\n",
    "    assert item.shape[0] == 1\n",
    "    if item['dataset'].values[0] in ignore_datasets:\n",
    "        continue\n",
    "    \n",
    "\n",
    "    \n",
    "    result = literal_eval(item['timestep_results'].iloc[0])\n",
    "    result = [(k, v) for k in result for v in result[k]]\n",
    "    result_df = pd.DataFrame(result, columns = ['core number', 'timestep of infection'])\n",
    "    \n",
    "    \n",
    "    sns.lineplot(x = 'core number', y = 'timestep of infection',  data=result_df, color = 'k')\n",
    "    # sns.ecdfplot(x = 'core number', y = 'infected', data=result_df, palette='colorblind')\n",
    "    # sns.ecdfplot(data=result_df[['core number','infected']],x = 'core number', palette='colorblind')\n",
    "\n",
    "    plt.xlabel('Core number', fontsize=fontsize)\n",
    "    plt.ylabel(\"First infection-time\", fontsize=fontsize)\n",
    "    plt.xticks(fontsize=labelsize)\n",
    "    # plt.xticks()\n",
    "    plt.yticks(fontsize=labelsize)\n",
    "    plt.title(goodname_algo[key[0]], fontsize=labelsize)\n",
    "    plt.tight_layout()\n",
    "    # TODO: \n",
    "    #  Add redline on the MAX_ITERATION\n",
    "    filename = (\" \".join(map(str, key)) + \" propagation\").replace(\" \", \"_\").replace(\".\", \"\")\n",
    "    if(save):\n",
    "        plt.savefig(output_folder+\"fig/\" + filename + \"_exp2.pdf\")\n",
    "    else:\n",
    "        print(filename)\n",
    "        plt.show()\n",
    "        break\n",
    "    plt.clf()\n",
    "\n",
    "    # # Plot mean\n",
    "    # meandf = result_df.groupby('core number').mean()\n",
    "    # print(meandf.head())\n",
    "    # break\n",
    "    # sns.barplot(x = 'core number', y = 'timestep of infection', data=meandf, palette='colorblind')\n",
    "    # # sns.ecdfplot(x = 'core number', y = 'infected', data=result_df, palette='colorblind')\n",
    "    # # sns.ecdfplot(data=result_df[['core number','infected']],x = 'core number', palette='colorblind')\n",
    "    # plt.xlabel('Core number', fontsize=fontsize)\n",
    "    # plt.ylabel(\"First infection-time\", fontsize=fontsize)\n",
    "    # plt.xticks(fontsize=labelsize,rotation=45)\n",
    "    # # plt.xticks()\n",
    "    # plt.yticks(fontsize=labelsize)\n",
    "    # plt.title(key)\n",
    "    # plt.tight_layout()\n",
    "    # # TODO: \n",
    "    # #  Add redline on the MAX_ITERATION\n",
    "    # filename = (\" \".join(map(str, key)) + \" propagation\").replace(\" \", \"_\").replace(\".\", \"\")\n",
    "    # if(save):\n",
    "    #     plt.savefig(output_folder+\"fig/\" + filename + \"_exp2(mean).pdf\")\n",
    "    # else:\n",
    "    #     print(filename)\n",
    "    #     plt.show()\n",
    "    #     break\n",
    "    # plt.clf()"
   ]
  },
  {
   "cell_type": "markdown",
   "metadata": {},
   "source": [
    "Qualitative Plots\n",
    "==========="
   ]
  },
  {
   "cell_type": "code",
   "execution_count": 20,
   "metadata": {},
   "outputs": [
    {
     "data": {
      "image/png": "[encoded data removed]",
      "text/plain": [
       "<Figure size 360x216 with 1 Axes>"
      ]
     },
     "metadata": {
      "needs_background": "light"
     },
     "output_type": "display_data"
    },
    {
     "data": {
      "image/png": "[encoded data removed]",
      "text/plain": [
       "<Figure size 360x216 with 1 Axes>"
      ]
     },
     "metadata": {
      "needs_background": "light"
     },
     "output_type": "display_data"
    },
    {
     "data": {
      "image/png": "[encoded data removed]",
      "text/plain": [
       "<Figure size 360x216 with 1 Axes>"
      ]
     },
     "metadata": {
      "needs_background": "light"
     },
     "output_type": "display_data"
    }
   ],
   "source": [
    "import pickle\n",
    "import matplotlib.pyplot as plt \n",
    "plt.rc('font', family='serif')\n",
    "plt.rc('xtick', labelsize='large')\n",
    "plt.rc('ytick', labelsize='large')\n",
    "\n",
    "# plt.style.use('plot.mplstyle')\n",
    "save = True\n",
    "_min = 1\n",
    "_max = 100\n",
    "def get_core_decomposition(core_numbers):\n",
    "    _max = max(core_numbers.values())\n",
    "    freq = { k : 0 for k in range(_min,_max+1)} \n",
    "    for node, val in core_numbers.items():\n",
    "        for i in range(1, val+1):\n",
    "            freq[i] = freq.get(i, 0)+1\n",
    "    return freq\n",
    "\n",
    "# for dataset in ['enron']:\n",
    "for dataset in ['congress','enron','contact']:\n",
    "    algo_list = ['graph_core','naive_nbr','naive_degree']\n",
    "    goodname = {\n",
    "        'graph_core': 'clique graph',\n",
    "        'naive_nbr': 'nbr-based hyp.',\n",
    "        'naive_degree': 'deg-based hyp.'\n",
    "    }\n",
    "\n",
    "    fig = plt.figure(figsize=(5, 3))\n",
    "    ax = fig.add_subplot(1, 1, 1)\n",
    "    for algo in algo_list:\n",
    "        fname = \"tests/tmp/\" + dataset + \"_\" + algo + \".pkl\"\n",
    "        with open(fname, 'rb') as handle:\n",
    "            hgDecompose = pickle.load(handle)\n",
    "            core_base = hgDecompose.core\n",
    "            core_decomp = get_core_decomposition(core_base)\n",
    "            x = list(core_decomp.keys())\n",
    "            y = [core_decomp[i] for i in x]\n",
    "            plt.plot(x,y, label = goodname[algo])\n",
    "    plt.xlabel('k', fontsize='x-large')\n",
    "    plt.ylabel('#vertices', fontsize='x-large')\n",
    "    plt.legend(loc = 'upper right')\n",
    "    plt.tight_layout()\n",
    "    plt.savefig('data/output/qualitative/'+ dataset+'.pdf')"
   ]
  },
  {
   "cell_type": "code",
   "execution_count": null,
   "metadata": {},
   "outputs": [],
   "source": []
  },
  {
   "cell_type": "markdown",
   "metadata": {},
   "source": [
    "## Local core algorithm analysis"
   ]
  },
  {
   "cell_type": "code",
   "execution_count": 22,
   "metadata": {},
   "outputs": [],
   "source": [
    "import pandas as pd\n",
    "import seaborn as sns\n",
    "%matplotlib inline\n",
    "import matplotlib.pyplot as plt\n",
    "import numpy as np\n",
    "import os\n",
    "from ast import literal_eval\n",
    "import shutil\n",
    "\n",
    "output_folder = 'data/output/'\n",
    "\n",
    "fontsize = 24\n",
    "labelsize = 20"
   ]
  },
  {
   "cell_type": "code",
   "execution_count": 125,
   "metadata": {},
   "outputs": [
    {
     "name": "stdout",
     "output_type": "stream",
     "text": [
      "(6, 7)\n"
     ]
    }
   ],
   "source": [
    "dataset = \"enron\"\n",
    "df = pd.read_csv(output_folder + dataset + \"_local_core.csv\", header=None)\n",
    "df.columns = ['algo', 'core', 'dataset', 'execution time', 'iteration', 'num_threads', 'outer iteration']\n",
    "print(df.shape)\n",
    "# df.head(15)"
   ]
  },
  {
   "cell_type": "code",
   "execution_count": 126,
   "metadata": {},
   "outputs": [],
   "source": [
    "df['core'] = df.apply(lambda x: literal_eval(x['core']), axis = 1)"
   ]
  },
  {
   "cell_type": "code",
   "execution_count": 127,
   "metadata": {},
   "outputs": [
    {
     "data": {
      "text/plain": [
       "5"
      ]
     },
     "execution_count": 127,
     "metadata": {},
     "output_type": "execute_result"
    }
   ],
   "source": [
    "best_index = df['iteration'].argmax() # last iteration is the best (actual) value of core\n",
    "best_core = df.iloc[best_index]['core']\n",
    "best_index"
   ]
  },
  {
   "cell_type": "code",
   "execution_count": 128,
   "metadata": {},
   "outputs": [],
   "source": [
    "def element_wise_matching(current_core, best_core):\n",
    "    correct_matching = 0\n",
    "    for k in current_core:\n",
    "        if(current_core[k] == best_core[k]):\n",
    "            correct_matching += 1\n",
    "    return float(correct_matching / len(best_core))\n",
    "    # return (1 - float(correct_matching / len(best_core)))*100\n",
    "\n",
    "def accumulated_per_vertex_accuracy(current_core, best_core):\n",
    "    per_vertex_error = 0\n",
    "    for k in current_core:\n",
    "        per_vertex_error += float((abs(current_core[k] - best_core[k])) / max(current_core[k], best_core[k]))\n",
    "    \n",
    "    # return 1 - float(per_vertex_error / len(best_core)) \n",
    "    return float(per_vertex_error / len(best_core)) \n",
    "\n",
    "def accumulated_accuracy(current_core, best_core):\n",
    "\n",
    "    total_error = 0\n",
    "    core_total = 0\n",
    "    for k in current_core:\n",
    "        total_error += abs(current_core[k] - best_core[k])\n",
    "        core_total += max(current_core[k], best_core[k])\n",
    "    \n",
    "    return 1 - float(total_error / core_total) \n",
    "\n",
    "def mean_approx_error(current_core, best_core):\n",
    "    per_vertex_error = 0\n",
    "    for k in current_core:\n",
    "        per_vertex_error += float((abs(current_core[k] - best_core[k])) / best_core[k])\n",
    "\n",
    "    return float(per_vertex_error / len(best_core)) \n",
    "\n",
    "# for i in range(best_index):\n",
    "#     print(i)\n",
    "#     print(element_wise_matching(df.iloc[i]['core'], best_core))\n",
    "#     print(accumulated_per_vertex_accuracy(df.iloc[i]['core'], best_core))\n",
    "#     print(accumulated_accuracy(df.iloc[i]['core'], best_core))"
   ]
  },
  {
   "cell_type": "code",
   "execution_count": 129,
   "metadata": {},
   "outputs": [],
   "source": [
    "df['element_wise_matching'] = df.apply(lambda x: element_wise_matching(x['core'], best_core), axis=1)\n",
    "df['accumulated_per_vertex_accuracy'] = df.apply(lambda x: accumulated_per_vertex_accuracy(x['core'], best_core), axis=1)\n",
    "df['accumulated_accuracy'] = df.apply(lambda x: accumulated_accuracy(x['core'], best_core), axis=1)\n",
    "df[\"mean_approx_error\"] = df.apply(lambda x: mean_approx_error(x['core'], best_core), axis=1)\n",
    "# df"
   ]
  },
  {
   "cell_type": "code",
   "execution_count": 130,
   "metadata": {},
   "outputs": [],
   "source": [
    "# save = True\n",
    "\n",
    "\n",
    "# e_peel_time = {\n",
    "#     'enron' : 0.377735, \n",
    "#     \"dblp\" : 97.4\n",
    "# }\n",
    "\n",
    "# goodname_accuracy = {\n",
    "#     'element_wise_matching' : 'Per vertex matching', \n",
    "#     'accumulated_per_vertex_accuracy' : 'Per vertex accuracy',\n",
    "#     'accumulated_accuracy' : 'Accumulated accuracy'\n",
    "# }\n",
    "\n",
    "# for y in ['element_wise_matching', 'accumulated_per_vertex_accuracy', 'accumulated_accuracy']:\n",
    "#     g = sns.lineplot(x = 'execution time', y = y, data=df, color='k', label = 'Local-Core')\n",
    "#     g.axvline(e_peel_time[dataset], label=\"E-Peel\", color='red')\n",
    "#     plt.xlabel('Execution time (s)', fontsize=fontsize)\n",
    "#     plt.ylabel(goodname_accuracy[y], fontsize=fontsize)\n",
    "#     plt.xticks(fontsize=labelsize)\n",
    "#     plt.yticks(fontsize=labelsize)\n",
    "#     plt.legend(loc = 'best', fontsize=labelsize)\n",
    "#     plt.tight_layout()\n",
    "#     filename = (dataset + \" \" + y + \" vs time\").replace(\" \", \"_\").replace(\".\", \"\")\n",
    "#     if(save):\n",
    "#         plt.savefig(output_folder+\"fig/\" + filename + \".pdf\")\n",
    "#     else:\n",
    "#         print(filename)\n",
    "#         plt.show()\n",
    "#     plt.clf()\n",
    "    "
   ]
  },
  {
   "cell_type": "code",
   "execution_count": 131,
   "metadata": {},
   "outputs": [
    {
     "data": {
      "text/plain": [
       "<Figure size 432x288 with 0 Axes>"
      ]
     },
     "metadata": {},
     "output_type": "display_data"
    }
   ],
   "source": [
    "save = True\n",
    "\n",
    "\n",
    "e_peel_time = {\n",
    "    'enron' : 0.377735, \n",
    "    \"dblp\" : 97.4\n",
    "}\n",
    "\n",
    "goodname_accuracy = {\n",
    "    # 'element_wise_matching' : 'Per vertex matching', \n",
    "    # 'element_wise_matching' : 'Frac. of correct core-number', \n",
    "    'element_wise_matching' : '% wrong core-num', \n",
    "    # 'accumulated_per_vertex_accuracy' : 'Per vertex accuracy',\n",
    "    # 'accumulated_per_vertex_accuracy' : 'Mean accuracy',\n",
    "    'accumulated_per_vertex_accuracy' : 'Mean approx. error',\n",
    "    'accumulated_accuracy' : 'Accumulated accuracy',\n",
    "    \"mean_approx_error\": \"Mean approx. error\"\n",
    "}\n",
    "\n",
    "for y in ['element_wise_matching', 'accumulated_per_vertex_accuracy', 'accumulated_accuracy']:\n",
    "    g = sns.lineplot(x = 'execution time', y = y, data=df, color='C2', label = 'Local-Core', linewidth = 3, marker = 'o')\n",
    "    g.axvline(e_peel_time[dataset], label=\"E-Peel\", color='C1', linestyle='dashed',linewidth = 3)\n",
    "    plt.xlabel('Execution-time (s)', fontsize=fontsize)\n",
    "    plt.ylabel(goodname_accuracy[y], fontsize=fontsize)\n",
    "    plt.xticks(fontsize=labelsize)\n",
    "    plt.yticks(fontsize=labelsize)\n",
    "    plt.legend(loc = 'best', fontsize = labelsize)\n",
    "    plt.tight_layout()\n",
    "    filename = (dataset + \" \" + y + \" vs time\").replace(\" \", \"_\").replace(\".\", \"\")\n",
    "    if(save):\n",
    "        plt.savefig(output_folder+\"fig/\" + filename + \".pdf\")\n",
    "    else:\n",
    "        print(filename)\n",
    "        plt.show()\n",
    "    plt.clf()\n",
    "    "
   ]
  },
  {
   "cell_type": "markdown",
   "metadata": {},
   "source": [
    "Final Plot\n",
    "======"
   ]
  },
  {
   "cell_type": "code",
   "execution_count": 149,
   "metadata": {},
   "outputs": [
    {
     "data": {
      "text/plain": [
       "<Figure size 864x432 with 0 Axes>"
      ]
     },
     "metadata": {},
     "output_type": "display_data"
    }
   ],
   "source": [
    "from matplotlib import pyplot as plt \n",
    "plt.rc('font', family='serif')\n",
    "labelsize = 24\n",
    "fontsize = 28 \n",
    "\n",
    "plt.rc('xtick', labelsize= labelsize)\n",
    "plt.rc('ytick', labelsize= labelsize)\n",
    "\n",
    "save = True \n",
    "e_peel_time = {\n",
    "    'enron' : 0.377735, \n",
    "    \"dblp\" : 97.4\n",
    "}\n",
    "\n",
    "goodname_accuracy = {\n",
    "    # 'element_wise_matching' : 'Per vertex matching', \n",
    "    # 'element_wise_matching' : 'Frac. of correct core-number', \n",
    "    'element_wise_matching' : '%Correct core-num', \n",
    "    # 'accumulated_per_vertex_accuracy' : 'Per vertex accuracy',\n",
    "    # 'accumulated_per_vertex_accuracy' : 'Mean accuracy',\n",
    "    'accumulated_per_vertex_accuracy' : 'Mean approx. error',\n",
    "    'accumulated_accuracy' : 'Accumulated accuracy',\n",
    "    \"mean_approx_error\": \"Mean approx. error\"\n",
    "}\n",
    "\n",
    "fig, ax = plt.subplots(figsize=(12, 6))\n",
    "twin1 = ax.twinx()\n",
    "\n",
    "y = 'element_wise_matching' \n",
    "x = 'execution time'\n",
    "# color = 'tab:red'\n",
    "color = 'k'\n",
    "ax.set_xlabel('Execution time (s)', fontsize = fontsize)\n",
    "ax.set_ylabel(goodname_accuracy[y], color=color, fontsize = fontsize)\n",
    "p1, = ax.plot(df[x].values, df[y].values*100, color=color, label = 'Local-Core (%correct)', marker = 'o')\n",
    "ax.tick_params(axis='y', labelcolor=color)\n",
    "\n",
    "# ax2 = ax.twinx()  # instantiate a second axes that shares the same x-axis\n",
    "\n",
    "y = 'accumulated_per_vertex_accuracy' \n",
    "color = 'b'\n",
    "twin1.set_ylabel(goodname_accuracy[y], color=color, fontsize= fontsize)\n",
    "p2, = twin1.plot(df[x].values, df[y].values, color=color, label = 'Local-Core (error)', marker = '*')\n",
    "twin1.tick_params(axis='y', labelcolor=color)\n",
    "\n",
    "p3 = twin1.axvline(e_peel_time[dataset], label=\"E-Peel\", color='C1', linestyle='dashed', linewidth = 2)\n",
    "\n",
    "ax.legend(handles=[p1, p2, p3], loc = 'center right', fontsize = fontsize)\n",
    "\n",
    "plt.tight_layout()\n",
    "filename = dataset+\"_localanalysis\"\n",
    "if(save):\n",
    "    plt.savefig(\"results_final/fig/\" + filename + \"_combined.pdf\")\n",
    "else:\n",
    "    print(filename)\n",
    "    plt.show()\n",
    "plt.clf()\n",
    "\n",
    "    "
   ]
  },
  {
   "cell_type": "code",
   "execution_count": null,
   "metadata": {},
   "outputs": [],
   "source": []
  },
  {
   "cell_type": "markdown",
   "metadata": {},
   "source": [
    "Corrected approx error\n",
    "======"
   ]
  },
  {
   "cell_type": "code",
   "execution_count": 133,
   "metadata": {},
   "outputs": [],
   "source": [
    "def get_corenumIntersect(df, xi):\n",
    "    y2 = df[\"element_wise_matching\"].values[1]*100\n",
    "    x2 = df['execution time'].values[1]\n",
    "    y1 = df[\"element_wise_matching\"].values[0]*100\n",
    "    x1 = df['execution time'].values[0]\n",
    "    slope_line1 = (y2-y1)/(x2-x1)\n",
    "    intercept1 = y1 - slope_line1*x1\n",
    "\n",
    "    # xi = e_peel_time[dataset]\n",
    "    yi = slope_line1*xi + intercept1\n",
    "    return xi, yi\n",
    "\n",
    "def get_approxIntersect(df, xi):\n",
    "    y2 = df[\"mean_approx_error\"].values[1]\n",
    "    x2 = df['execution time'].values[1]\n",
    "    y1 = df[\"mean_approx_error\"].values[0]\n",
    "    x1 = df['execution time'].values[0]\n",
    "    slope_line1 = (y2-y1)/(x2-x1)\n",
    "    intercept1 = y1 - slope_line1*x1\n",
    "\n",
    "    # xi = e_peel_time[dataset]\n",
    "    yi = slope_line1*xi + intercept1\n",
    "    return xi, yi"
   ]
  },
  {
   "cell_type": "code",
   "execution_count": 148,
   "metadata": {},
   "outputs": [
    {
     "data": {
      "text/plain": [
       "<Figure size 864x432 with 0 Axes>"
      ]
     },
     "metadata": {},
     "output_type": "display_data"
    }
   ],
   "source": [
    "from matplotlib import pyplot as plt \n",
    "plt.rc('font', family='serif')\n",
    "labelsize = 25\n",
    "fontsize = 28 \n",
    "\n",
    "plt.rc('xtick', labelsize= labelsize)\n",
    "plt.rc('ytick', labelsize= labelsize)\n",
    "\n",
    "save = True \n",
    "e_peel_time = {\n",
    "    'enron' : 0.377735, \n",
    "    \"dblp\" : 97.4\n",
    "}\n",
    "\n",
    "goodname_accuracy = {\n",
    "    # 'element_wise_matching' : 'Per vertex matching', \n",
    "    # 'element_wise_matching' : 'Frac. of correct core-number', \n",
    "    'element_wise_matching' : '%Correct core-num', \n",
    "    # 'accumulated_per_vertex_accuracy' : 'Per vertex accuracy',\n",
    "    # 'accumulated_per_vertex_accuracy' : 'Mean accuracy',\n",
    "    'accumulated_per_vertex_accuracy' : 'Mean approx. error',\n",
    "    'accumulated_accuracy' : 'Accumulated accuracy',\n",
    "    \"mean_approx_error\": \"Mean approx. error\"\n",
    "}\n",
    "\n",
    "fig, ax = plt.subplots(figsize=(12, 6))\n",
    "twin1 = ax.twinx()\n",
    "\n",
    "y = 'element_wise_matching' \n",
    "x = 'execution time'\n",
    "# color = 'tab:red'\n",
    "color = 'k'\n",
    "ax.set_xlabel('Execution time (s)', fontsize = fontsize)\n",
    "ax.set_ylabel(goodname_accuracy[y], color=color, fontsize = fontsize)\n",
    "p1, = ax.plot(df[x].values, df[y].values*100, color=color, label = 'Local-Core (%correct)', marker = 'o')\n",
    "\n",
    "# x2,y2 = get_corenumIntersect(df, e_peel_time[dataset])\n",
    "# x1,y1 = (0,y2) \n",
    "# p4 = ax.plot( (x1,x2),  (y1,y2), linestyle='dashed')\n",
    "if dataset == 'dblp':\n",
    "    xi, yi = get_corenumIntersect(df, e_peel_time[dataset])\n",
    "    p4 = ax.axhline(y = yi, xmax = 0.088, linestyle='dashed',color = color)\n",
    "if dataset == 'enron':\n",
    "    xi, yi = get_corenumIntersect(df, e_peel_time[dataset])\n",
    "    p4 = ax.axhline(y = yi, xmax = 0.255, linestyle='dashed',color = color)\n",
    "\n",
    "ax.tick_params(axis='y', labelcolor=color)\n",
    "\n",
    "# ax2 = ax.twinx()  # instantiate a second axes that shares the same x-axis\n",
    "\n",
    "y = 'mean_approx_error' \n",
    "color = 'b'\n",
    "twin1.set_ylabel(goodname_accuracy[y], color=color, fontsize= fontsize)\n",
    "p2, = twin1.plot(df[x].values, df[y].values, color=color, label = 'Local-Core (error)', marker = '*')\n",
    "twin1.tick_params(axis='y', labelcolor=color)\n",
    "\n",
    "p3 = twin1.axvline(e_peel_time[dataset], label=\"E-Peel\", color='C1', linestyle='dashed', linewidth = 2)\n",
    "if dataset == 'dblp':\n",
    "    xi, yi = get_approxIntersect(df, e_peel_time[dataset])\n",
    "    p5 = twin1.axhline(y = yi, xmin = 0.085, linestyle='dashed',color = color)\n",
    "\n",
    "if dataset == 'enron':\n",
    "    xi, yi = get_approxIntersect(df, e_peel_time[dataset])\n",
    "    p5 = twin1.axhline(y = yi, xmin = 0.255, linestyle='dashed',color = color)\n",
    "\n",
    "if dataset == 'enron':\n",
    "    ax.legend(handles=[p1, p2, p3], loc = 'upper right', fontsize = fontsize)\n",
    "if dataset == 'ernon':\n",
    "    ax.legend(handles=[p1, p2, p3], loc = 'center right', fontsize = fontsize)\n",
    "plt.tight_layout()\n",
    "filename = dataset+\"_localanalysis\"\n",
    "if(save):\n",
    "    plt.savefig(\"results_final/fig/\" + filename + \"_combined3.pdf\")\n",
    "else:\n",
    "    print(filename)\n",
    "    plt.show()\n",
    "plt.clf()"
   ]
  },
  {
   "cell_type": "code",
   "execution_count": 135,
   "metadata": {},
   "outputs": [],
   "source": [
    "# print(\"enron\")\n",
    "# # print(df['accumulated_per_vertex_accuracy'].values)\n",
    "# # print(df['element_wise_matching'].values)\n",
    "# # print(df[\"mean_approx_error\"].values)\n",
    "# y2 = df[\"mean_approx_error\"].values[1]\n",
    "# x2 = df['execution time'].values[1]\n",
    "# y1 = df[\"mean_approx_error\"].values[0]\n",
    "# x1 = df['execution time'].values[0]\n",
    "# slope_line1 = (y2-y1)/(x2-x1)\n",
    "# intercept1 = y1 - slope_line1*x1\n",
    "\n",
    "# xi = e_peel_time[dataset]\n",
    "# yi = slope_line1*xi + intercept1\n",
    "# # print(y1,y2,x1,x2)\n",
    "# # print(slope_line1, intercept1)\n",
    "# print(xi,yi)\n"
   ]
  },
  {
   "cell_type": "code",
   "execution_count": 136,
   "metadata": {},
   "outputs": [
    {
     "name": "stdout",
     "output_type": "stream",
     "text": [
      "0.377735 77.77437211937624\n"
     ]
    }
   ],
   "source": [
    "y2 = df[\"element_wise_matching\"].values[1]*100\n",
    "x2 = df['execution time'].values[1]\n",
    "y1 = df[\"element_wise_matching\"].values[0]*100\n",
    "x1 = df['execution time'].values[0]\n",
    "slope_line1 = (y2-y1)/(x2-x1)\n",
    "intercept1 = y1 - slope_line1*x1\n",
    "\n",
    "xi = e_peel_time[dataset]\n",
    "yi = slope_line1*xi + intercept1\n",
    "print(xi,yi)"
   ]
  },
  {
   "cell_type": "code",
   "execution_count": 137,
   "metadata": {},
   "outputs": [
    {
     "name": "stdout",
     "output_type": "stream",
     "text": [
      "dblp\n",
      "[1.73681293e-01 1.47944714e-02 2.82451044e-03 6.65489835e-04\n",
      " 2.71309066e-05 0.00000000e+00]\n",
      "[0.59439295 0.90752883 0.96314719 0.98485191 0.99932173 1.        ]\n",
      "[5.81089408e-01 2.00212101e-02 3.13472949e-03 6.98342328e-04\n",
      " 2.82613611e-05 0.00000000e+00]\n"
     ]
    }
   ],
   "source": [
    "print(\"dblp\")\n",
    "print(df['accumulated_per_vertex_accuracy' ].values)\n",
    "print(df['element_wise_matching' ].values)\n",
    "print(df[\"mean_approx_error\"].values)"
   ]
  },
  {
   "cell_type": "markdown",
   "metadata": {},
   "source": [
    "## Propagation algorithm"
   ]
  },
  {
   "cell_type": "code",
   "execution_count": 1,
   "metadata": {},
   "outputs": [],
   "source": [
    "import pandas as pd\n",
    "import seaborn as sns\n",
    "%matplotlib inline\n",
    "import matplotlib.pyplot as plt\n",
    "import numpy as np\n",
    "import os\n",
    "from ast import literal_eval\n",
    "import shutil\n",
    "\n",
    "output_folder = 'data/output/'\n",
    "# if os.path.exists(output_folder+\"fig/\"):\n",
    "#     shutil.rmtree(output_folder+\"fig/\")\n",
    "# os.mkdir(output_folder+\"fig/\")\n",
    "\n",
    "fontsize = 18\n",
    "labelsize = 12"
   ]
  },
  {
   "cell_type": "code",
   "execution_count": 8,
   "metadata": {},
   "outputs": [
    {
     "name": "stdout",
     "output_type": "stream",
     "text": [
      "(1, 7)\n"
     ]
    },
    {
     "data": {
      "text/html": [
       "<div>\n",
       "<style scoped>\n",
       "    .dataframe tbody tr th:only-of-type {\n",
       "        vertical-align: middle;\n",
       "    }\n",
       "\n",
       "    .dataframe tbody tr th {\n",
       "        vertical-align: top;\n",
       "    }\n",
       "\n",
       "    .dataframe thead th {\n",
       "        text-align: right;\n",
       "    }\n",
       "</style>\n",
       "<table border=\"1\" class=\"dataframe\">\n",
       "  <thead>\n",
       "    <tr style=\"text-align: right;\">\n",
       "      <th></th>\n",
       "      <th>algo</th>\n",
       "      <th>dataset</th>\n",
       "      <th>exp</th>\n",
       "      <th>intervention_results</th>\n",
       "      <th>p</th>\n",
       "      <th>result</th>\n",
       "      <th>timestep_results</th>\n",
       "    </tr>\n",
       "  </thead>\n",
       "  <tbody>\n",
       "    <tr>\n",
       "      <th>0</th>\n",
       "      <td>naive_nbr</td>\n",
       "      <td>default</td>\n",
       "      <td>sir_exp3</td>\n",
       "      <td>{'nill': {6: [0.9230769230769231, 0.8461538461...</td>\n",
       "      <td>0.3</td>\n",
       "      <td>NaN</td>\n",
       "      <td>NaN</td>\n",
       "    </tr>\n",
       "  </tbody>\n",
       "</table>\n",
       "</div>"
      ],
      "text/plain": [
       "        algo  dataset       exp  \\\n",
       "0  naive_nbr  default  sir_exp3   \n",
       "\n",
       "                                intervention_results    p  result  \\\n",
       "0  {'nill': {6: [0.9230769230769231, 0.8461538461...  0.3     NaN   \n",
       "\n",
       "   timestep_results  \n",
       "0               NaN  "
      ]
     },
     "execution_count": 8,
     "metadata": {},
     "output_type": "execute_result"
    }
   ],
   "source": [
    "df = pd.read_csv(output_folder + \"/propagation_result.csv\", header=None)\n",
    "df.columns = ['algo', 'dataset', 'exp', 'intervention_results', 'p', 'result', 'timestep_results']\n",
    "print(df.shape)\n",
    "df.head(15)"
   ]
  },
  {
   "cell_type": "markdown",
   "metadata": {},
   "source": [
    "### Infected (sir exp 1)"
   ]
  },
  {
   "cell_type": "code",
   "execution_count": 9,
   "metadata": {},
   "outputs": [],
   "source": [
    "import seaborn as sns \n",
    "from matplotlib.ticker import MaxNLocator\n",
    "sns.set(rc={'figure.figsize':(7,4)})\n",
    "sns.set_style(\"whitegrid\", {'axes.grid' : True})\n",
    "lw = 3\n",
    "save = False\n",
    "\n",
    "\n",
    "ignore_datasets = ['bin_1','bin_2','bin_4','bin_5', 'congress', 'contact']\n",
    "group_list = ['dataset', 'p']\n",
    "goodname_algo = {\n",
    "        'graph_core': 'clique graph',\n",
    "        'naive_nbr': 'nbr-based hyp.',\n",
    "        'naive_degree': 'deg-based hyp.'\n",
    "    }\n",
    "\n",
    "# group_list = ['algo',  'p']\n",
    "for key, item in df[df['result'].notnull()].groupby(group_list, as_index=False):\n",
    "    if item['dataset'].values[0] in ignore_datasets:\n",
    "        continue\n",
    "\n",
    "\n",
    "    item['algo'] = item['algo'].replace(goodname_algo)\n",
    "    result_df = pd.DataFrame()\n",
    "    for algo in item['algo'].unique():\n",
    "        \n",
    "        assert item[item['algo'] == algo].shape[0] == 1\n",
    "        result = literal_eval(item[item['algo'] == algo]['result'].iloc[0])\n",
    "        result = [(k, v, algo) for k in result for v in result[k]]\n",
    "        result_df = result_df.append(pd.DataFrame(result, columns = ['core number', 'infected', 'algo']), ignore_index=False)\n",
    "        \n",
    "\n",
    "    #Plot mean\n",
    "    meandf = result_df.groupby(['core number', 'algo']).mean().reset_index()\n",
    "    fig, ax = plt.subplots()\n",
    "    sns.lineplot(x = 'core number', y = 'infected', hue='algo', hue_order = ['clique graph', 'nbr-based hyp.', 'deg-based hyp.'], \n",
    "                    data=meandf, color='k', linewidth = lw)\n",
    "    \n",
    "    plt.xlabel('Core number', fontsize=fontsize)\n",
    "    plt.ylabel(\"Frac. of infected\", fontsize=fontsize)\n",
    "    plt.xticks(fontsize=fontsize)\n",
    "    # plt.xticks()\n",
    "    plt.yticks(fontsize=fontsize)\n",
    "    handles, labels = ax.get_legend_handles_labels()\n",
    "    ax.legend(handles=handles[1:], labels=labels[1:], fontsize=fontsize)\n",
    "    # plt.title(key)\n",
    "    ax.yaxis.set_major_locator(MaxNLocator(5))\n",
    "    ax.xaxis.set_major_locator(MaxNLocator(5)) \n",
    "    plt.tight_layout()\n",
    "    filename = (\" \".join(map(str, key)) + \" propagation\").replace(\" \", \"_\").replace(\".\", \"\")\n",
    "    if(save):\n",
    "        plt.savefig(\"results_final/fig/\" + filename + \"_mean_all_algo.pdf\")\n",
    "    else:\n",
    "        print(filename)\n",
    "        plt.show()\n",
    "        break\n",
    "    plt.clf()"
   ]
  },
  {
   "cell_type": "markdown",
   "metadata": {},
   "source": [
    "### Intervention (sir exp 3)"
   ]
  },
  {
   "cell_type": "code",
   "execution_count": 17,
   "metadata": {},
   "outputs": [
    {
     "name": "stdout",
     "output_type": "stream",
     "text": [
      "default_03_propagation\n"
     ]
    },
    {
     "data": {
      "image/png": "[encoded data removed]",
      "text/plain": [
       "<Figure size 504x288 with 1 Axes>"
      ]
     },
     "metadata": {},
     "output_type": "display_data"
    }
   ],
   "source": [
    "import seaborn as sns \n",
    "# from matplotlib.ticker import MaxNLocator\n",
    "sns.set(rc={'figure.figsize':(7,4)})\n",
    "sns.set_style(\"whitegrid\", {'axes.grid' : True})\n",
    "lw = 3\n",
    "save = False\n",
    "\n",
    "\n",
    "ignore_datasets = ['bin_1','bin_2','bin_4','bin_5', 'congress', 'contact']\n",
    "group_list = ['dataset', 'p']\n",
    "goodname_algo = {\n",
    "        'graph_core': 'clique graph',\n",
    "        'naive_nbr': 'nbr-based hyp.',\n",
    "        'naive_degree': 'deg-based hyp.'\n",
    "    }\n",
    "\n",
    "# group_list = ['algo',  'p']\n",
    "for key, item in df[df['intervention_results'].notnull()].groupby(group_list, as_index=False):\n",
    "    if item['dataset'].values[0] in ignore_datasets:\n",
    "        continue\n",
    "\n",
    "\n",
    "    item['algo'] = item['algo'].replace(goodname_algo)\n",
    "    result_df = pd.DataFrame()\n",
    "    assert len(item['algo'].unique()) == 1\n",
    "    \n",
    "    result = literal_eval(item['intervention_results'].iloc[0])\n",
    "    # print(result.keys())\n",
    "    result = [(eid, k, v) for eid in result for k in result[eid] for v in result[eid][k]]\n",
    "    result_df = result_df.append(pd.DataFrame(result, columns = ['edge id', 'core number', 'infected']), ignore_index=False)\n",
    "    # print(result_df['edge id'].unique())\n",
    "\n",
    "    #Plot mean\n",
    "    meandf = result_df.groupby(['edge id', 'core number']).mean().reset_index()\n",
    "    # print(meandf)\n",
    "    sns.lineplot(x = 'core number', y = 'infected', hue = 'edge id', palette='colorblind', data=meandf)\n",
    "    \n",
    "    plt.xlabel('Core number', fontsize=fontsize)\n",
    "    plt.ylabel(\"Frac. of infected\", fontsize=fontsize)\n",
    "    plt.xticks(fontsize=fontsize)\n",
    "    plt.yticks(fontsize=fontsize)\n",
    "    plt.tight_layout()\n",
    "    filename = (\" \".join(map(str, key)) + \" propagation\").replace(\" \", \"_\").replace(\".\", \"\")\n",
    "    if(save):\n",
    "        plt.savefig(\"data/output/fig/\" + filename + \"_intervention_sort_by_edge.pdf\")\n",
    "    else:\n",
    "        print(filename)\n",
    "        plt.show()\n",
    "        break \n",
    "    plt.clf()"
   ]
  },
  {
   "cell_type": "markdown",
   "metadata": {},
   "source": [
    "### Intervention (sir exp 3) taking mean"
   ]
  },
  {
   "cell_type": "code",
   "execution_count": 20,
   "metadata": {},
   "outputs": [
    {
     "name": "stdout",
     "output_type": "stream",
     "text": [
      "default_03_propagation\n"
     ]
    },
    {
     "data": {
      "image/png": "[encoded data removed]",
      "text/plain": [
       "<Figure size 504x288 with 1 Axes>"
      ]
     },
     "metadata": {},
     "output_type": "display_data"
    }
   ],
   "source": [
    "import seaborn as sns \n",
    "# from matplotlib.ticker import MaxNLocator\n",
    "sns.set(rc={'figure.figsize':(7,4)})\n",
    "sns.set_style(\"whitegrid\", {'axes.grid' : True})\n",
    "lw = 3\n",
    "save = False\n",
    "\n",
    "\n",
    "ignore_datasets = ['bin_1','bin_2','bin_4','bin_5', 'congress', 'contact']\n",
    "group_list = ['dataset', 'p']\n",
    "goodname_algo = {\n",
    "        'graph_core': 'clique graph',\n",
    "        'naive_nbr': 'nbr-based hyp.',\n",
    "        'naive_degree': 'deg-based hyp.'\n",
    "    }\n",
    "\n",
    "# group_list = ['algo',  'p']\n",
    "for key, item in df[df['intervention_results'].notnull()].groupby(group_list, as_index=False):\n",
    "    if item['dataset'].values[0] in ignore_datasets:\n",
    "        continue\n",
    "\n",
    "\n",
    "    item['algo'] = item['algo'].replace(goodname_algo)\n",
    "    result_df = pd.DataFrame()\n",
    "    assert len(item['algo'].unique()) == 1\n",
    "    \n",
    "    result = literal_eval(item['intervention_results'].iloc[0])\n",
    "    # print(result.keys())\n",
    "    result = [(eid, k, v) for eid in result for k in result[eid] for v in result[eid][k]]\n",
    "    result_df = result_df.append(pd.DataFrame(result, columns = ['edge id', 'core number', 'infected']), ignore_index=False)\n",
    "    # print(result_df['edge id'].unique())\n",
    "    result_df['intervention'] = result_df.apply(lambda x: 'applied' if x['edge id'] != 'nill' else 'not applied', axis=1)\n",
    "\n",
    "    #Plot mean\n",
    "    meandf = result_df.groupby(['intervention', 'core number']).mean().reset_index()\n",
    "    # print(meandf)\n",
    "    sns.lineplot(x = 'core number', y = 'infected', hue = 'intervention', palette='colorblind', data=meandf)\n",
    "    \n",
    "    plt.xlabel('Core number', fontsize=fontsize)\n",
    "    plt.ylabel(\"Frac. of infected\", fontsize=fontsize)\n",
    "    plt.xticks(fontsize=fontsize)\n",
    "    plt.yticks(fontsize=fontsize)\n",
    "    plt.tight_layout()\n",
    "    filename = (\" \".join(map(str, key)) + \" propagation\").replace(\" \", \"_\").replace(\".\", \"\")\n",
    "    if(save):\n",
    "        plt.savefig(\"data/output/fig/\" + filename + \"_intervention.pdf\")\n",
    "    else:\n",
    "        print(filename)\n",
    "        plt.show()\n",
    "        break \n",
    "    plt.clf()"
   ]
  },
  {
   "cell_type": "code",
   "execution_count": null,
   "metadata": {},
   "outputs": [],
   "source": []
  }
 ],
 "metadata": {
  "interpreter": {
   "hash": "aff7118c20e07ed9fb612d208aa40ec32e694bdf8c4eda70182d9aa82faa566c"
  },
  "kernelspec": {
   "display_name": "Python 3.8.3 64-bit ('base': conda)",
   "name": "python3"
  },
  "language_info": {
   "codemirror_mode": {
    "name": "ipython",
    "version": 3
   },
   "file_extension": ".py",
   "mimetype": "text/x-python",
   "name": "python",
   "nbconvert_exporter": "python",
   "pygments_lexer": "ipython3",
   "version": "3.8.3"
  },
  "orig_nbformat": 2
 },
 "nbformat": 4,
 "nbformat_minor": 2
}
