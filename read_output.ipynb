{
 "metadata": {
  "language_info": {
   "codemirror_mode": {
    "name": "ipython",
    "version": 3
   },
   "file_extension": ".py",
   "mimetype": "text/x-python",
   "name": "python",
   "nbconvert_exporter": "python",
   "pygments_lexer": "ipython3",
   "version": "3.7.6"
  },
  "orig_nbformat": 2,
  "kernelspec": {
   "name": "python3",
   "display_name": "Python 3.7.6 64-bit",
   "metadata": {
    "interpreter": {
     "hash": "0db018c280e3a72069022c2cad8b8ccb9d17abe98b1d02521807f2b42220d72c"
    }
   }
  }
 },
 "nbformat": 4,
 "nbformat_minor": 2,
 "cells": [
  {
   "cell_type": "code",
   "execution_count": 21,
   "metadata": {},
   "outputs": [],
   "source": [
    "import pandas as pd\n",
    "import seaborn as sns\n",
    "%matplotlib inline\n",
    "import matplotlib.pyplot as plt\n",
    "import numpy as np\n",
    "import os\n",
    "os.system(\"mkdir -p data/output/fig\")\n",
    "\n",
    "fontsize = 22\n",
    "labelsize = 18"
   ]
  },
  {
   "cell_type": "code",
   "execution_count": 25,
   "metadata": {},
   "outputs": [
    {
     "output_type": "stream",
     "name": "stdout",
     "text": [
      "(100, 13)\n"
     ]
    },
    {
     "output_type": "execute_result",
     "data": {
      "text/plain": [
       "         algo  bucket update time  \\\n",
       "0   naive_nbr            0.000012   \n",
       "1   naive_nbr            0.000009   \n",
       "2   naive_nbr            0.000021   \n",
       "3   naive_nbr            0.000015   \n",
       "4   naive_nbr            0.000012   \n",
       "..        ...                 ...   \n",
       "95  naive_nbr            0.000010   \n",
       "96  naive_nbr            0.000009   \n",
       "97  naive_nbr            0.000013   \n",
       "98  naive_nbr            0.000018   \n",
       "99  naive_nbr            0.000013   \n",
       "\n",
       "                                                 core  dataset  \\\n",
       "0   {'MP': 1, 'MA': 1, 'GP': 1, 'JA': 2, 'TH': 2, ...  default   \n",
       "1   {'MP': 1, 'MA': 1, 'GP': 1, 'JA': 2, 'TH': 2, ...  default   \n",
       "2   {'MP': 1, 'MA': 1, 'GP': 1, 'JA': 2, 'TH': 2, ...  default   \n",
       "3   {'MP': 1, 'MA': 1, 'GP': 1, 'JA': 2, 'TH': 2, ...  default   \n",
       "4   {'MP': 1, 'MA': 1, 'GP': 1, 'JA': 2, 'TH': 2, ...  default   \n",
       "..                                                ...      ...   \n",
       "95  {'MP': 1, 'MA': 1, 'GP': 1, 'JA': 2, 'TH': 2, ...  default   \n",
       "96  {'MP': 1, 'MA': 1, 'GP': 1, 'JA': 2, 'TH': 2, ...  default   \n",
       "97  {'MP': 1, 'MA': 1, 'GP': 1, 'JA': 2, 'TH': 2, ...  default   \n",
       "98  {'MP': 1, 'MA': 1, 'GP': 1, 'JA': 2, 'TH': 2, ...  default   \n",
       "99  {'MP': 1, 'MA': 1, 'GP': 1, 'JA': 2, 'TH': 2, ...  default   \n",
       "\n",
       "    degree call time  execution time  neighborhood call time  \\\n",
       "0                0.0        0.003543                0.000052   \n",
       "1                0.0        0.003034                0.000058   \n",
       "2                0.0        0.004837                0.000062   \n",
       "3                0.0        0.003510                0.000079   \n",
       "4                0.0        0.003119                0.000060   \n",
       "..               ...             ...                     ...   \n",
       "95               0.0        0.003120                0.000057   \n",
       "96               0.0        0.003266                0.000057   \n",
       "97               0.0        0.003343                0.000056   \n",
       "98               0.0        0.003397                0.000112   \n",
       "99               0.0        0.003128                0.000059   \n",
       "\n",
       "    num bucket update  num degree computation  num neighborhood computation  \\\n",
       "0                13.0                     0.0                          13.0   \n",
       "1                13.0                     0.0                          13.0   \n",
       "2                13.0                     0.0                          13.0   \n",
       "3                13.0                     0.0                          13.0   \n",
       "4                13.0                     0.0                          13.0   \n",
       "..                ...                     ...                           ...   \n",
       "95               13.0                     0.0                          13.0   \n",
       "96               13.0                     0.0                          13.0   \n",
       "97               13.0                     0.0                          13.0   \n",
       "98               13.0                     0.0                          13.0   \n",
       "99               13.0                     0.0                          13.0   \n",
       "\n",
       "    param_s  num subgraph call  subgraph computation time  \n",
       "0       1.0               13.0                   0.003224  \n",
       "1       1.0               13.0                   0.002733  \n",
       "2       1.0               13.0                   0.004143  \n",
       "3       1.0               13.0                   0.003051  \n",
       "4       1.0               13.0                   0.002807  \n",
       "..      ...                ...                        ...  \n",
       "95      1.0               13.0                   0.002755  \n",
       "96      1.0               13.0                   0.002937  \n",
       "97      1.0               13.0                   0.003027  \n",
       "98      1.0               13.0                   0.002942  \n",
       "99      1.0               13.0                   0.002813  \n",
       "\n",
       "[100 rows x 13 columns]"
      ],
      "text/html": "<div>\n<style scoped>\n    .dataframe tbody tr th:only-of-type {\n        vertical-align: middle;\n    }\n\n    .dataframe tbody tr th {\n        vertical-align: top;\n    }\n\n    .dataframe thead th {\n        text-align: right;\n    }\n</style>\n<table border=\"1\" class=\"dataframe\">\n  <thead>\n    <tr style=\"text-align: right;\">\n      <th></th>\n      <th>algo</th>\n      <th>bucket update time</th>\n      <th>core</th>\n      <th>dataset</th>\n      <th>degree call time</th>\n      <th>execution time</th>\n      <th>neighborhood call time</th>\n      <th>num bucket update</th>\n      <th>num degree computation</th>\n      <th>num neighborhood computation</th>\n      <th>param_s</th>\n      <th>num subgraph call</th>\n      <th>subgraph computation time</th>\n    </tr>\n  </thead>\n  <tbody>\n    <tr>\n      <th>0</th>\n      <td>naive_nbr</td>\n      <td>0.000012</td>\n      <td>{'MP': 1, 'MA': 1, 'GP': 1, 'JA': 2, 'TH': 2, ...</td>\n      <td>default</td>\n      <td>0.0</td>\n      <td>0.003543</td>\n      <td>0.000052</td>\n      <td>13.0</td>\n      <td>0.0</td>\n      <td>13.0</td>\n      <td>1.0</td>\n      <td>13.0</td>\n      <td>0.003224</td>\n    </tr>\n    <tr>\n      <th>1</th>\n      <td>naive_nbr</td>\n      <td>0.000009</td>\n      <td>{'MP': 1, 'MA': 1, 'GP': 1, 'JA': 2, 'TH': 2, ...</td>\n      <td>default</td>\n      <td>0.0</td>\n      <td>0.003034</td>\n      <td>0.000058</td>\n      <td>13.0</td>\n      <td>0.0</td>\n      <td>13.0</td>\n      <td>1.0</td>\n      <td>13.0</td>\n      <td>0.002733</td>\n    </tr>\n    <tr>\n      <th>2</th>\n      <td>naive_nbr</td>\n      <td>0.000021</td>\n      <td>{'MP': 1, 'MA': 1, 'GP': 1, 'JA': 2, 'TH': 2, ...</td>\n      <td>default</td>\n      <td>0.0</td>\n      <td>0.004837</td>\n      <td>0.000062</td>\n      <td>13.0</td>\n      <td>0.0</td>\n      <td>13.0</td>\n      <td>1.0</td>\n      <td>13.0</td>\n      <td>0.004143</td>\n    </tr>\n    <tr>\n      <th>3</th>\n      <td>naive_nbr</td>\n      <td>0.000015</td>\n      <td>{'MP': 1, 'MA': 1, 'GP': 1, 'JA': 2, 'TH': 2, ...</td>\n      <td>default</td>\n      <td>0.0</td>\n      <td>0.003510</td>\n      <td>0.000079</td>\n      <td>13.0</td>\n      <td>0.0</td>\n      <td>13.0</td>\n      <td>1.0</td>\n      <td>13.0</td>\n      <td>0.003051</td>\n    </tr>\n    <tr>\n      <th>4</th>\n      <td>naive_nbr</td>\n      <td>0.000012</td>\n      <td>{'MP': 1, 'MA': 1, 'GP': 1, 'JA': 2, 'TH': 2, ...</td>\n      <td>default</td>\n      <td>0.0</td>\n      <td>0.003119</td>\n      <td>0.000060</td>\n      <td>13.0</td>\n      <td>0.0</td>\n      <td>13.0</td>\n      <td>1.0</td>\n      <td>13.0</td>\n      <td>0.002807</td>\n    </tr>\n    <tr>\n      <th>...</th>\n      <td>...</td>\n      <td>...</td>\n      <td>...</td>\n      <td>...</td>\n      <td>...</td>\n      <td>...</td>\n      <td>...</td>\n      <td>...</td>\n      <td>...</td>\n      <td>...</td>\n      <td>...</td>\n      <td>...</td>\n      <td>...</td>\n    </tr>\n    <tr>\n      <th>95</th>\n      <td>naive_nbr</td>\n      <td>0.000010</td>\n      <td>{'MP': 1, 'MA': 1, 'GP': 1, 'JA': 2, 'TH': 2, ...</td>\n      <td>default</td>\n      <td>0.0</td>\n      <td>0.003120</td>\n      <td>0.000057</td>\n      <td>13.0</td>\n      <td>0.0</td>\n      <td>13.0</td>\n      <td>1.0</td>\n      <td>13.0</td>\n      <td>0.002755</td>\n    </tr>\n    <tr>\n      <th>96</th>\n      <td>naive_nbr</td>\n      <td>0.000009</td>\n      <td>{'MP': 1, 'MA': 1, 'GP': 1, 'JA': 2, 'TH': 2, ...</td>\n      <td>default</td>\n      <td>0.0</td>\n      <td>0.003266</td>\n      <td>0.000057</td>\n      <td>13.0</td>\n      <td>0.0</td>\n      <td>13.0</td>\n      <td>1.0</td>\n      <td>13.0</td>\n      <td>0.002937</td>\n    </tr>\n    <tr>\n      <th>97</th>\n      <td>naive_nbr</td>\n      <td>0.000013</td>\n      <td>{'MP': 1, 'MA': 1, 'GP': 1, 'JA': 2, 'TH': 2, ...</td>\n      <td>default</td>\n      <td>0.0</td>\n      <td>0.003343</td>\n      <td>0.000056</td>\n      <td>13.0</td>\n      <td>0.0</td>\n      <td>13.0</td>\n      <td>1.0</td>\n      <td>13.0</td>\n      <td>0.003027</td>\n    </tr>\n    <tr>\n      <th>98</th>\n      <td>naive_nbr</td>\n      <td>0.000018</td>\n      <td>{'MP': 1, 'MA': 1, 'GP': 1, 'JA': 2, 'TH': 2, ...</td>\n      <td>default</td>\n      <td>0.0</td>\n      <td>0.003397</td>\n      <td>0.000112</td>\n      <td>13.0</td>\n      <td>0.0</td>\n      <td>13.0</td>\n      <td>1.0</td>\n      <td>13.0</td>\n      <td>0.002942</td>\n    </tr>\n    <tr>\n      <th>99</th>\n      <td>naive_nbr</td>\n      <td>0.000013</td>\n      <td>{'MP': 1, 'MA': 1, 'GP': 1, 'JA': 2, 'TH': 2, ...</td>\n      <td>default</td>\n      <td>0.0</td>\n      <td>0.003128</td>\n      <td>0.000059</td>\n      <td>13.0</td>\n      <td>0.0</td>\n      <td>13.0</td>\n      <td>1.0</td>\n      <td>13.0</td>\n      <td>0.002813</td>\n    </tr>\n  </tbody>\n</table>\n<p>100 rows × 13 columns</p>\n</div>"
     },
     "metadata": {},
     "execution_count": 25
    }
   ],
   "source": [
    "df = pd.read_csv(\"data/output/result.csv\", header=None)\n",
    "df.columns = ['algo', 'bucket update time', 'core', 'dataset', 'degree call time', 'execution time', 'neighborhood call time', 'num bucket update', 'num degree computation', 'num neighborhood computation', 'param_s', 'num subgraph call', 'subgraph computation time']\n",
    "print(df.shape)\n",
    "df"
   ]
  },
  {
   "source": [
    "### sample plotting"
   ],
   "cell_type": "markdown",
   "metadata": {}
  },
  {
   "cell_type": "code",
   "execution_count": 23,
   "metadata": {},
   "outputs": [
    {
     "output_type": "display_data",
     "data": {
      "text/plain": "<Figure size 360x288 with 0 Axes>"
     },
     "metadata": {}
    }
   ],
   "source": [
    "save = True\n",
    "\n",
    "\n",
    "sns.set(rc={'figure.figsize':(5,4)})\n",
    "sns.set_style(\"whitegrid\", {'axes.grid' : True})\n",
    "\n",
    "\n",
    "\n",
    "good_name = {\n",
    "    'bucket update time' : 'Bucket time (s)', \n",
    "    'execution time' : \"Time (s)\", \n",
    "    'neighborhood call time' : \"NB time (s)\", \n",
    "    'subgraph computation time' : \"Sub time(s)\",\n",
    "    'num bucket update' : \"#bucket\", \n",
    "    'num neighborhood computation' : \"#nb\",\n",
    "    'num subgraph call' : \"#subgraph\"\n",
    "}\n",
    "\n",
    "good_name_algo = {\n",
    "    'naive_nbr' : \"NBR\", \n",
    "    'improved_nbr' : \"NBR(1)\", \n",
    "    'improved2_nbr' : \"NBR(2)\",\n",
    "    'naive_degree' : \"DEG\"\n",
    "}\n",
    "\n",
    "\n",
    "\n",
    "\n",
    "group_list = ['dataset']\n",
    "for key, item in df.groupby(group_list, as_index=False):\n",
    "    # key contains dataset\n",
    "    item['param_s'] = item['param_s'].astype(int)\n",
    "    item = item.replace({\"algo\": good_name_algo})\n",
    "    for y_axis in ['bucket update time', 'execution time', 'neighborhood call time', 'num bucket update', 'num neighborhood computation', 'subgraph computation time', 'num subgraph call']:\n",
    "\n",
    "        sns.barplot(x='algo', y=y_axis, data=item, palette='colorblind', order=['NBR', 'NBR(1)', 'NBR(2)'])\n",
    "        plt.xlabel('Algorithm', fontsize=fontsize)\n",
    "        plt.ylabel(good_name[y_axis], fontsize=fontsize)\n",
    "        # plt.yscale(\"log\")\n",
    "        plt.xticks(fontsize=labelsize)\n",
    "        plt.yticks(fontsize=labelsize)\n",
    "        plt.title(key)\n",
    "        plt.tight_layout()\n",
    "        filename = (key + \" \" + y_axis).replace(\" \", \"_\")\n",
    "        if(save):\n",
    "            plt.savefig(\"data/output/fig/\" + filename + \".pdf\")\n",
    "        else:\n",
    "            print(filename)\n",
    "            plt.show()\n",
    "        plt.clf()\n",
    "\n",
    "    # Commnet out following to see full results\n",
    "    if(not save):\n",
    "        break\n"
   ]
  },
  {
   "source": [
    "### Effect of parameter \"s\" in improved2_nbr"
   ],
   "cell_type": "markdown",
   "metadata": {}
  },
  {
   "cell_type": "code",
   "execution_count": 5,
   "metadata": {},
   "outputs": [
    {
     "output_type": "display_data",
     "data": {
      "text/plain": "<Figure size 360x288 with 0 Axes>"
     },
     "metadata": {}
    }
   ],
   "source": [
    "save = True\n",
    "\n",
    "group_list = ['dataset']\n",
    "for key, item in df[df['algo'] == 'improved2_nbr'].groupby(group_list, as_index=False):\n",
    "    \n",
    "    # key contains dataset\n",
    "    item['param_s'] = item['param_s'].astype(int)\n",
    "\n",
    "    for y_axis in ['bucket update time', 'execution time', 'neighborhood call time', 'num bucket update', 'num neighborhood computation']:\n",
    "\n",
    "        sns.barplot(x='param_s', y=y_axis, data=item, palette='colorblind')\n",
    "        plt.xlabel(r'$s$', fontsize=fontsize)\n",
    "        plt.ylabel(good_name[y_axis], fontsize=fontsize)\n",
    "        # plt.yscale(\"log\")\n",
    "        plt.xticks(fontsize=labelsize)\n",
    "        plt.yticks(fontsize=labelsize)\n",
    "\n",
    "        plt.title(key)\n",
    "        # plt.legend(loc='best', fontsize=labelsize-4)\n",
    "        plt.tight_layout()\n",
    "        filename = (key + \" param_s \" + y_axis).replace(\" \", \"_\")\n",
    "        if(save):\n",
    "            plt.savefig(\"data/output/fig/\" + filename + \".pdf\")\n",
    "        else:\n",
    "            print(filename)\n",
    "            plt.show()\n",
    "        plt.clf()\n",
    "\n",
    "    # Commnet out following to see full results\n",
    "    if(not save):\n",
    "        break\n"
   ]
  },
  {
   "cell_type": "code",
   "execution_count": 28,
   "metadata": {},
   "outputs": [
    {
     "output_type": "execute_result",
     "data": {
      "text/plain": [
       "Index(['algo', 'bucket update time', 'core', 'dataset', 'degree call time',\n",
       "       'execution time', 'neighborhood call time', 'num bucket update',\n",
       "       'num degree computation', 'num neighborhood computation', 'param_s'],\n",
       "      dtype='object')"
      ]
     },
     "metadata": {},
     "execution_count": 28
    }
   ],
   "source": [
    "df.columns"
   ]
  },
  {
   "source": [
    "### statistics of run"
   ],
   "cell_type": "markdown",
   "metadata": {}
  },
  {
   "cell_type": "code",
   "execution_count": 11,
   "metadata": {},
   "outputs": [
    {
     "output_type": "stream",
     "name": "stdout",
     "text": [
      "('bin_1', 'improved2_nbr', 1.0) 10\n('bin_1', 'improved2_nbr', 2.0) 10\n('bin_1', 'improved2_nbr', 3.0) 10\n('bin_1', 'improved2_nbr', 4.0) 10\n('bin_1', 'improved2_nbr', 5.0) 10\n('bin_1', 'improved2_nbr', 6.0) 10\n('bin_1', 'improved2_nbr', 7.0) 10\n('bin_1', 'improved2_nbr', 8.0) 10\n('bin_1', 'improved2_nbr', 9.0) 10\n('bin_1', 'improved2_nbr', 10.0) 10\n('bin_1', 'improved_nbr', 0.0) 10\n('bin_1', 'naive_degree', 0.0) 10\n('bin_1', 'naive_nbr', 0.0) 10\n('bin_2', 'improved2_nbr', 2.0) 1\n('bin_2', 'improved2_nbr', 3.0) 2\n('bin_2', 'improved2_nbr', 4.0) 2\n('bin_2', 'improved2_nbr', 5.0) 2\n('bin_2', 'improved2_nbr', 6.0) 5\n('bin_2', 'improved2_nbr', 7.0) 5\n('bin_2', 'improved2_nbr', 8.0) 5\n('bin_2', 'improved2_nbr', 9.0) 5\n('bin_2', 'improved2_nbr', 10.0) 5\n('bin_2', 'improved_nbr', 0.0) 6\n('bin_2', 'naive_degree', 0.0) 5\n('bin_2', 'naive_nbr', 0.0) 5\n('bin_4', 'improved2_nbr', 1.0) 10\n('bin_4', 'improved2_nbr', 2.0) 10\n('bin_4', 'improved2_nbr', 3.0) 10\n('bin_4', 'improved2_nbr', 4.0) 10\n('bin_4', 'improved2_nbr', 5.0) 20\n('bin_4', 'improved2_nbr', 6.0) 20\n('bin_4', 'improved2_nbr', 7.0) 20\n('bin_4', 'improved2_nbr', 8.0) 20\n('bin_4', 'improved2_nbr', 9.0) 20\n('bin_4', 'improved2_nbr', 10.0) 20\n('bin_4', 'improved_nbr', 0.0) 10\n('bin_4', 'naive_degree', 0.0) 20\n('bin_4', 'naive_nbr', 0.0) 10\n('bin_5', 'improved2_nbr', 3.0) 2\n('bin_5', 'improved2_nbr', 4.0) 2\n('bin_5', 'improved2_nbr', 5.0) 2\n('bin_5', 'improved2_nbr', 6.0) 2\n('bin_5', 'improved2_nbr', 7.0) 2\n('bin_5', 'improved2_nbr', 8.0) 2\n('bin_5', 'improved2_nbr', 9.0) 2\n('bin_5', 'improved2_nbr', 10.0) 2\n('bin_5', 'improved_nbr', 0.0) 4\n('bin_5', 'naive_degree', 0.0) 2\n('bin_5', 'naive_nbr', 0.0) 4\n('syn', 'improved2_nbr', 1.0) 20\n('syn', 'improved2_nbr', 2.0) 20\n('syn', 'improved2_nbr', 3.0) 20\n('syn', 'improved2_nbr', 4.0) 20\n('syn', 'improved2_nbr', 5.0) 20\n('syn', 'improved2_nbr', 6.0) 20\n('syn', 'improved2_nbr', 7.0) 20\n('syn', 'improved2_nbr', 8.0) 20\n('syn', 'improved2_nbr', 9.0) 20\n('syn', 'improved2_nbr', 10.0) 20\n('syn', 'improved_nbr', 0.0) 20\n('syn', 'naive_degree', 0.0) 20\n('syn', 'naive_nbr', 0.0) 20\n"
     ]
    }
   ],
   "source": [
    "group_list = ['dataset', 'algo', 'param_s']\n",
    "for key, item in df.groupby(group_list, as_index=False):\n",
    "    print(key, item.shape[0])"
   ]
  },
  {
   "cell_type": "code",
   "execution_count": 15,
   "metadata": {},
   "outputs": [
    {
     "output_type": "execute_result",
     "data": {
      "text/plain": [
       "              algo  bucket update time  \\\n",
       "131  improved2_nbr            0.001903   \n",
       "139  improved2_nbr            0.001844   \n",
       "290  improved2_nbr            0.002588   \n",
       "329  improved2_nbr            0.002748   \n",
       "368  improved2_nbr            0.002807   \n",
       "405  improved2_nbr            0.002508   \n",
       "445  improved2_nbr            0.002856   \n",
       "468  improved2_nbr            0.002626   \n",
       "472  improved2_nbr            0.002459   \n",
       "488  improved2_nbr            0.002537   \n",
       "494  improved2_nbr            0.002707   \n",
       "505  improved2_nbr            0.002574   \n",
       "511  improved2_nbr            0.002467   \n",
       "521  improved2_nbr            0.002627   \n",
       "533  improved2_nbr            0.002709   \n",
       "542  improved2_nbr            0.002712   \n",
       "552  improved2_nbr            0.003077   \n",
       "559  improved2_nbr            0.002850   \n",
       "567  improved2_nbr            0.003090   \n",
       "573  improved2_nbr            0.002658   \n",
       "\n",
       "                                                  core dataset  \\\n",
       "131  {'2': 21, '3': 21, '1': 22, '10': 23, '7': 23,...   bin_4   \n",
       "139  {'2': 21, '3': 21, '1': 22, '10': 23, '7': 23,...   bin_4   \n",
       "290  {'2': 21, '3': 21, '1': 22, '10': 23, '7': 23,...   bin_4   \n",
       "329  {'2': 21, '3': 21, '1': 22, '10': 23, '7': 23,...   bin_4   \n",
       "368  {'2': 21, '3': 21, '1': 22, '10': 23, '7': 23,...   bin_4   \n",
       "405  {'2': 21, '3': 21, '1': 22, '10': 23, '7': 23,...   bin_4   \n",
       "445  {'2': 21, '3': 21, '1': 22, '10': 23, '7': 23,...   bin_4   \n",
       "468  {'2': 21, '3': 21, '1': 22, '10': 23, '7': 23,...   bin_4   \n",
       "472  {'2': 21, '3': 21, '1': 22, '10': 23, '7': 23,...   bin_4   \n",
       "488  {'2': 21, '3': 21, '1': 22, '10': 23, '7': 23,...   bin_4   \n",
       "494  {'2': 21, '3': 21, '1': 22, '10': 23, '7': 23,...   bin_4   \n",
       "505  {'2': 21, '3': 21, '1': 22, '10': 23, '7': 23,...   bin_4   \n",
       "511  {'2': 21, '3': 21, '1': 22, '10': 23, '7': 23,...   bin_4   \n",
       "521  {'2': 21, '3': 21, '1': 22, '10': 23, '7': 23,...   bin_4   \n",
       "533  {'2': 21, '3': 21, '1': 22, '10': 23, '7': 23,...   bin_4   \n",
       "542  {'2': 21, '3': 21, '1': 22, '10': 23, '7': 23,...   bin_4   \n",
       "552  {'2': 21, '3': 21, '1': 22, '10': 23, '7': 23,...   bin_4   \n",
       "559  {'2': 21, '3': 21, '1': 22, '10': 23, '7': 23,...   bin_4   \n",
       "567  {'2': 21, '3': 21, '1': 22, '10': 23, '7': 23,...   bin_4   \n",
       "573  {'2': 21, '3': 21, '1': 22, '10': 23, '7': 23,...   bin_4   \n",
       "\n",
       "     degree call time  execution time  neighborhood call time  \\\n",
       "131               0.0       14.145965                0.060783   \n",
       "139               0.0       14.209440                0.060764   \n",
       "290               0.0       23.781176                0.097596   \n",
       "329               0.0       24.023960                0.097108   \n",
       "368               0.0       24.586668                0.100559   \n",
       "405               0.0       24.769082                0.094438   \n",
       "445               0.0       26.127799                0.099877   \n",
       "468               0.0       23.085294                0.094985   \n",
       "472               0.0       23.726672                0.086946   \n",
       "488               0.0       23.256360                0.089789   \n",
       "494               0.0       24.530046                0.099550   \n",
       "505               0.0       22.928012                0.090882   \n",
       "511               0.0       23.561521                0.092715   \n",
       "521               0.0       23.005754                0.095095   \n",
       "533               0.0       24.715350                0.099864   \n",
       "542               0.0       24.984591                0.100334   \n",
       "552               0.0       26.605008                0.104909   \n",
       "559               0.0       25.042125                0.096923   \n",
       "567               0.0       25.880004                0.104853   \n",
       "573               0.0       24.090948                0.095288   \n",
       "\n",
       "     num bucket update  num degree computation  num neighborhood computation  \\\n",
       "131              538.0                     0.0                        1220.0   \n",
       "139              538.0                     0.0                        1220.0   \n",
       "290              538.0                     0.0                        1220.0   \n",
       "329              538.0                     0.0                        1220.0   \n",
       "368              538.0                     0.0                        1220.0   \n",
       "405              538.0                     0.0                        1220.0   \n",
       "445              538.0                     0.0                        1220.0   \n",
       "468              542.0                     0.0                        1224.0   \n",
       "472              538.0                     0.0                        1220.0   \n",
       "488              542.0                     0.0                        1224.0   \n",
       "494              538.0                     0.0                        1220.0   \n",
       "505              542.0                     0.0                        1224.0   \n",
       "511              538.0                     0.0                        1220.0   \n",
       "521              542.0                     0.0                        1224.0   \n",
       "533              542.0                     0.0                        1224.0   \n",
       "542              542.0                     0.0                        1224.0   \n",
       "552              542.0                     0.0                        1224.0   \n",
       "559              542.0                     0.0                        1224.0   \n",
       "567              542.0                     0.0                        1224.0   \n",
       "573              542.0                     0.0                        1224.0   \n",
       "\n",
       "     param_s  \n",
       "131      6.0  \n",
       "139      6.0  \n",
       "290      6.0  \n",
       "329      6.0  \n",
       "368      6.0  \n",
       "405      6.0  \n",
       "445      6.0  \n",
       "468      6.0  \n",
       "472      6.0  \n",
       "488      6.0  \n",
       "494      6.0  \n",
       "505      6.0  \n",
       "511      6.0  \n",
       "521      6.0  \n",
       "533      6.0  \n",
       "542      6.0  \n",
       "552      6.0  \n",
       "559      6.0  \n",
       "567      6.0  \n",
       "573      6.0  "
      ],
      "text/html": "<div>\n<style scoped>\n    .dataframe tbody tr th:only-of-type {\n        vertical-align: middle;\n    }\n\n    .dataframe tbody tr th {\n        vertical-align: top;\n    }\n\n    .dataframe thead th {\n        text-align: right;\n    }\n</style>\n<table border=\"1\" class=\"dataframe\">\n  <thead>\n    <tr style=\"text-align: right;\">\n      <th></th>\n      <th>algo</th>\n      <th>bucket update time</th>\n      <th>core</th>\n      <th>dataset</th>\n      <th>degree call time</th>\n      <th>execution time</th>\n      <th>neighborhood call time</th>\n      <th>num bucket update</th>\n      <th>num degree computation</th>\n      <th>num neighborhood computation</th>\n      <th>param_s</th>\n    </tr>\n  </thead>\n  <tbody>\n    <tr>\n      <th>131</th>\n      <td>improved2_nbr</td>\n      <td>0.001903</td>\n      <td>{'2': 21, '3': 21, '1': 22, '10': 23, '7': 23,...</td>\n      <td>bin_4</td>\n      <td>0.0</td>\n      <td>14.145965</td>\n      <td>0.060783</td>\n      <td>538.0</td>\n      <td>0.0</td>\n      <td>1220.0</td>\n      <td>6.0</td>\n    </tr>\n    <tr>\n      <th>139</th>\n      <td>improved2_nbr</td>\n      <td>0.001844</td>\n      <td>{'2': 21, '3': 21, '1': 22, '10': 23, '7': 23,...</td>\n      <td>bin_4</td>\n      <td>0.0</td>\n      <td>14.209440</td>\n      <td>0.060764</td>\n      <td>538.0</td>\n      <td>0.0</td>\n      <td>1220.0</td>\n      <td>6.0</td>\n    </tr>\n    <tr>\n      <th>290</th>\n      <td>improved2_nbr</td>\n      <td>0.002588</td>\n      <td>{'2': 21, '3': 21, '1': 22, '10': 23, '7': 23,...</td>\n      <td>bin_4</td>\n      <td>0.0</td>\n      <td>23.781176</td>\n      <td>0.097596</td>\n      <td>538.0</td>\n      <td>0.0</td>\n      <td>1220.0</td>\n      <td>6.0</td>\n    </tr>\n    <tr>\n      <th>329</th>\n      <td>improved2_nbr</td>\n      <td>0.002748</td>\n      <td>{'2': 21, '3': 21, '1': 22, '10': 23, '7': 23,...</td>\n      <td>bin_4</td>\n      <td>0.0</td>\n      <td>24.023960</td>\n      <td>0.097108</td>\n      <td>538.0</td>\n      <td>0.0</td>\n      <td>1220.0</td>\n      <td>6.0</td>\n    </tr>\n    <tr>\n      <th>368</th>\n      <td>improved2_nbr</td>\n      <td>0.002807</td>\n      <td>{'2': 21, '3': 21, '1': 22, '10': 23, '7': 23,...</td>\n      <td>bin_4</td>\n      <td>0.0</td>\n      <td>24.586668</td>\n      <td>0.100559</td>\n      <td>538.0</td>\n      <td>0.0</td>\n      <td>1220.0</td>\n      <td>6.0</td>\n    </tr>\n    <tr>\n      <th>405</th>\n      <td>improved2_nbr</td>\n      <td>0.002508</td>\n      <td>{'2': 21, '3': 21, '1': 22, '10': 23, '7': 23,...</td>\n      <td>bin_4</td>\n      <td>0.0</td>\n      <td>24.769082</td>\n      <td>0.094438</td>\n      <td>538.0</td>\n      <td>0.0</td>\n      <td>1220.0</td>\n      <td>6.0</td>\n    </tr>\n    <tr>\n      <th>445</th>\n      <td>improved2_nbr</td>\n      <td>0.002856</td>\n      <td>{'2': 21, '3': 21, '1': 22, '10': 23, '7': 23,...</td>\n      <td>bin_4</td>\n      <td>0.0</td>\n      <td>26.127799</td>\n      <td>0.099877</td>\n      <td>538.0</td>\n      <td>0.0</td>\n      <td>1220.0</td>\n      <td>6.0</td>\n    </tr>\n    <tr>\n      <th>468</th>\n      <td>improved2_nbr</td>\n      <td>0.002626</td>\n      <td>{'2': 21, '3': 21, '1': 22, '10': 23, '7': 23,...</td>\n      <td>bin_4</td>\n      <td>0.0</td>\n      <td>23.085294</td>\n      <td>0.094985</td>\n      <td>542.0</td>\n      <td>0.0</td>\n      <td>1224.0</td>\n      <td>6.0</td>\n    </tr>\n    <tr>\n      <th>472</th>\n      <td>improved2_nbr</td>\n      <td>0.002459</td>\n      <td>{'2': 21, '3': 21, '1': 22, '10': 23, '7': 23,...</td>\n      <td>bin_4</td>\n      <td>0.0</td>\n      <td>23.726672</td>\n      <td>0.086946</td>\n      <td>538.0</td>\n      <td>0.0</td>\n      <td>1220.0</td>\n      <td>6.0</td>\n    </tr>\n    <tr>\n      <th>488</th>\n      <td>improved2_nbr</td>\n      <td>0.002537</td>\n      <td>{'2': 21, '3': 21, '1': 22, '10': 23, '7': 23,...</td>\n      <td>bin_4</td>\n      <td>0.0</td>\n      <td>23.256360</td>\n      <td>0.089789</td>\n      <td>542.0</td>\n      <td>0.0</td>\n      <td>1224.0</td>\n      <td>6.0</td>\n    </tr>\n    <tr>\n      <th>494</th>\n      <td>improved2_nbr</td>\n      <td>0.002707</td>\n      <td>{'2': 21, '3': 21, '1': 22, '10': 23, '7': 23,...</td>\n      <td>bin_4</td>\n      <td>0.0</td>\n      <td>24.530046</td>\n      <td>0.099550</td>\n      <td>538.0</td>\n      <td>0.0</td>\n      <td>1220.0</td>\n      <td>6.0</td>\n    </tr>\n    <tr>\n      <th>505</th>\n      <td>improved2_nbr</td>\n      <td>0.002574</td>\n      <td>{'2': 21, '3': 21, '1': 22, '10': 23, '7': 23,...</td>\n      <td>bin_4</td>\n      <td>0.0</td>\n      <td>22.928012</td>\n      <td>0.090882</td>\n      <td>542.0</td>\n      <td>0.0</td>\n      <td>1224.0</td>\n      <td>6.0</td>\n    </tr>\n    <tr>\n      <th>511</th>\n      <td>improved2_nbr</td>\n      <td>0.002467</td>\n      <td>{'2': 21, '3': 21, '1': 22, '10': 23, '7': 23,...</td>\n      <td>bin_4</td>\n      <td>0.0</td>\n      <td>23.561521</td>\n      <td>0.092715</td>\n      <td>538.0</td>\n      <td>0.0</td>\n      <td>1220.0</td>\n      <td>6.0</td>\n    </tr>\n    <tr>\n      <th>521</th>\n      <td>improved2_nbr</td>\n      <td>0.002627</td>\n      <td>{'2': 21, '3': 21, '1': 22, '10': 23, '7': 23,...</td>\n      <td>bin_4</td>\n      <td>0.0</td>\n      <td>23.005754</td>\n      <td>0.095095</td>\n      <td>542.0</td>\n      <td>0.0</td>\n      <td>1224.0</td>\n      <td>6.0</td>\n    </tr>\n    <tr>\n      <th>533</th>\n      <td>improved2_nbr</td>\n      <td>0.002709</td>\n      <td>{'2': 21, '3': 21, '1': 22, '10': 23, '7': 23,...</td>\n      <td>bin_4</td>\n      <td>0.0</td>\n      <td>24.715350</td>\n      <td>0.099864</td>\n      <td>542.0</td>\n      <td>0.0</td>\n      <td>1224.0</td>\n      <td>6.0</td>\n    </tr>\n    <tr>\n      <th>542</th>\n      <td>improved2_nbr</td>\n      <td>0.002712</td>\n      <td>{'2': 21, '3': 21, '1': 22, '10': 23, '7': 23,...</td>\n      <td>bin_4</td>\n      <td>0.0</td>\n      <td>24.984591</td>\n      <td>0.100334</td>\n      <td>542.0</td>\n      <td>0.0</td>\n      <td>1224.0</td>\n      <td>6.0</td>\n    </tr>\n    <tr>\n      <th>552</th>\n      <td>improved2_nbr</td>\n      <td>0.003077</td>\n      <td>{'2': 21, '3': 21, '1': 22, '10': 23, '7': 23,...</td>\n      <td>bin_4</td>\n      <td>0.0</td>\n      <td>26.605008</td>\n      <td>0.104909</td>\n      <td>542.0</td>\n      <td>0.0</td>\n      <td>1224.0</td>\n      <td>6.0</td>\n    </tr>\n    <tr>\n      <th>559</th>\n      <td>improved2_nbr</td>\n      <td>0.002850</td>\n      <td>{'2': 21, '3': 21, '1': 22, '10': 23, '7': 23,...</td>\n      <td>bin_4</td>\n      <td>0.0</td>\n      <td>25.042125</td>\n      <td>0.096923</td>\n      <td>542.0</td>\n      <td>0.0</td>\n      <td>1224.0</td>\n      <td>6.0</td>\n    </tr>\n    <tr>\n      <th>567</th>\n      <td>improved2_nbr</td>\n      <td>0.003090</td>\n      <td>{'2': 21, '3': 21, '1': 22, '10': 23, '7': 23,...</td>\n      <td>bin_4</td>\n      <td>0.0</td>\n      <td>25.880004</td>\n      <td>0.104853</td>\n      <td>542.0</td>\n      <td>0.0</td>\n      <td>1224.0</td>\n      <td>6.0</td>\n    </tr>\n    <tr>\n      <th>573</th>\n      <td>improved2_nbr</td>\n      <td>0.002658</td>\n      <td>{'2': 21, '3': 21, '1': 22, '10': 23, '7': 23,...</td>\n      <td>bin_4</td>\n      <td>0.0</td>\n      <td>24.090948</td>\n      <td>0.095288</td>\n      <td>542.0</td>\n      <td>0.0</td>\n      <td>1224.0</td>\n      <td>6.0</td>\n    </tr>\n  </tbody>\n</table>\n</div>"
     },
     "metadata": {},
     "execution_count": 15
    }
   ],
   "source": [
    "df[(df['algo'] == \"improved2_nbr\") & (df['dataset'] == 'bin_4') & (df['param_s'] == 6)]"
   ]
  },
  {
   "cell_type": "code",
   "execution_count": null,
   "metadata": {},
   "outputs": [],
   "source": []
  }
 ]
}