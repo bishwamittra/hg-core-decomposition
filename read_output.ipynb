{
 "metadata": {
  "language_info": {
   "codemirror_mode": {
    "name": "ipython",
    "version": 3
   },
   "file_extension": ".py",
   "mimetype": "text/x-python",
   "name": "python",
   "nbconvert_exporter": "python",
   "pygments_lexer": "ipython3",
   "version": "3.7.6"
  },
  "orig_nbformat": 2,
  "kernelspec": {
   "name": "python3",
   "display_name": "Python 3.7.6 64-bit",
   "metadata": {
    "interpreter": {
     "hash": "0db018c280e3a72069022c2cad8b8ccb9d17abe98b1d02521807f2b42220d72c"
    }
   }
  }
 },
 "nbformat": 4,
 "nbformat_minor": 2,
 "cells": [
  {
   "cell_type": "code",
   "execution_count": 27,
   "metadata": {},
   "outputs": [],
   "source": [
    "import pandas as pd\n",
    "import seaborn as sns\n",
    "%matplotlib inline\n",
    "import matplotlib.pyplot as plt\n",
    "import numpy as np\n",
    "import os\n",
    "os.system(\"mkdir -p data/output/fig\")\n",
    "\n",
    "fontsize = 22\n",
    "labelsize = 18"
   ]
  },
  {
   "cell_type": "code",
   "execution_count": 29,
   "metadata": {},
   "outputs": [
    {
     "output_type": "stream",
     "name": "stdout",
     "text": [
      "(400, 13)\n"
     ]
    },
    {
     "output_type": "execute_result",
     "data": {
      "text/plain": [
       "             algo  bucket update time  \\\n",
       "0       naive_nbr            0.000012   \n",
       "1       naive_nbr            0.000009   \n",
       "2       naive_nbr            0.000021   \n",
       "3       naive_nbr            0.000015   \n",
       "4       naive_nbr            0.000012   \n",
       "..            ...                 ...   \n",
       "395  naive_degree            0.000012   \n",
       "396  naive_degree            0.000016   \n",
       "397  naive_degree            0.000030   \n",
       "398  naive_degree            0.000014   \n",
       "399  naive_degree            0.000012   \n",
       "\n",
       "                                                  core  dataset  \\\n",
       "0    {'MP': 1, 'MA': 1, 'GP': 1, 'JA': 2, 'TH': 2, ...  default   \n",
       "1    {'MP': 1, 'MA': 1, 'GP': 1, 'JA': 2, 'TH': 2, ...  default   \n",
       "2    {'MP': 1, 'MA': 1, 'GP': 1, 'JA': 2, 'TH': 2, ...  default   \n",
       "3    {'MP': 1, 'MA': 1, 'GP': 1, 'JA': 2, 'TH': 2, ...  default   \n",
       "4    {'MP': 1, 'MA': 1, 'GP': 1, 'JA': 2, 'TH': 2, ...  default   \n",
       "..                                                 ...      ...   \n",
       "395  {'JA': 1, 'BR': 1, 'MP': 1, 'MA': 1, 'FN': 1, ...  default   \n",
       "396  {'JA': 1, 'BR': 1, 'MP': 1, 'MA': 1, 'FN': 1, ...  default   \n",
       "397  {'JA': 1, 'BR': 1, 'MP': 1, 'MA': 1, 'FN': 1, ...  default   \n",
       "398  {'JA': 1, 'BR': 1, 'MP': 1, 'MA': 1, 'FN': 1, ...  default   \n",
       "399  {'JA': 1, 'BR': 1, 'MP': 1, 'MA': 1, 'FN': 1, ...  default   \n",
       "\n",
       "     degree call time  execution time  neighborhood call time  \\\n",
       "0            0.000000        0.003543                0.000052   \n",
       "1            0.000000        0.003034                0.000058   \n",
       "2            0.000000        0.004837                0.000062   \n",
       "3            0.000000        0.003510                0.000079   \n",
       "4            0.000000        0.003119                0.000060   \n",
       "..                ...             ...                     ...   \n",
       "395          0.000045        0.003120                0.000000   \n",
       "396          0.000046        0.002843                0.000000   \n",
       "397          0.000052        0.003869                0.000000   \n",
       "398          0.000046        0.003058                0.000000   \n",
       "399          0.000056        0.003251                0.000000   \n",
       "\n",
       "     num bucket update  num degree computation  num neighborhood computation  \\\n",
       "0                 13.0                     0.0                          13.0   \n",
       "1                 13.0                     0.0                          13.0   \n",
       "2                 13.0                     0.0                          13.0   \n",
       "3                 13.0                     0.0                          13.0   \n",
       "4                 13.0                     0.0                          13.0   \n",
       "..                 ...                     ...                           ...   \n",
       "395               16.0                    16.0                           0.0   \n",
       "396               16.0                    16.0                           0.0   \n",
       "397               16.0                    16.0                           0.0   \n",
       "398               16.0                    16.0                           0.0   \n",
       "399               16.0                    16.0                           0.0   \n",
       "\n",
       "     param_s  num subgraph call  subgraph computation time  \n",
       "0        1.0               13.0                   0.003224  \n",
       "1        1.0               13.0                   0.002733  \n",
       "2        1.0               13.0                   0.004143  \n",
       "3        1.0               13.0                   0.003051  \n",
       "4        1.0               13.0                   0.002807  \n",
       "..       ...                ...                        ...  \n",
       "395     13.0                1.0                   0.002886  \n",
       "396     13.0                1.0                   0.002612  \n",
       "397     13.0                1.0                   0.003547  \n",
       "398     13.0                1.0                   0.002816  \n",
       "399     13.0                1.0                   0.002980  \n",
       "\n",
       "[400 rows x 13 columns]"
      ],
      "text/html": "<div>\n<style scoped>\n    .dataframe tbody tr th:only-of-type {\n        vertical-align: middle;\n    }\n\n    .dataframe tbody tr th {\n        vertical-align: top;\n    }\n\n    .dataframe thead th {\n        text-align: right;\n    }\n</style>\n<table border=\"1\" class=\"dataframe\">\n  <thead>\n    <tr style=\"text-align: right;\">\n      <th></th>\n      <th>algo</th>\n      <th>bucket update time</th>\n      <th>core</th>\n      <th>dataset</th>\n      <th>degree call time</th>\n      <th>execution time</th>\n      <th>neighborhood call time</th>\n      <th>num bucket update</th>\n      <th>num degree computation</th>\n      <th>num neighborhood computation</th>\n      <th>param_s</th>\n      <th>num subgraph call</th>\n      <th>subgraph computation time</th>\n    </tr>\n  </thead>\n  <tbody>\n    <tr>\n      <th>0</th>\n      <td>naive_nbr</td>\n      <td>0.000012</td>\n      <td>{'MP': 1, 'MA': 1, 'GP': 1, 'JA': 2, 'TH': 2, ...</td>\n      <td>default</td>\n      <td>0.000000</td>\n      <td>0.003543</td>\n      <td>0.000052</td>\n      <td>13.0</td>\n      <td>0.0</td>\n      <td>13.0</td>\n      <td>1.0</td>\n      <td>13.0</td>\n      <td>0.003224</td>\n    </tr>\n    <tr>\n      <th>1</th>\n      <td>naive_nbr</td>\n      <td>0.000009</td>\n      <td>{'MP': 1, 'MA': 1, 'GP': 1, 'JA': 2, 'TH': 2, ...</td>\n      <td>default</td>\n      <td>0.000000</td>\n      <td>0.003034</td>\n      <td>0.000058</td>\n      <td>13.0</td>\n      <td>0.0</td>\n      <td>13.0</td>\n      <td>1.0</td>\n      <td>13.0</td>\n      <td>0.002733</td>\n    </tr>\n    <tr>\n      <th>2</th>\n      <td>naive_nbr</td>\n      <td>0.000021</td>\n      <td>{'MP': 1, 'MA': 1, 'GP': 1, 'JA': 2, 'TH': 2, ...</td>\n      <td>default</td>\n      <td>0.000000</td>\n      <td>0.004837</td>\n      <td>0.000062</td>\n      <td>13.0</td>\n      <td>0.0</td>\n      <td>13.0</td>\n      <td>1.0</td>\n      <td>13.0</td>\n      <td>0.004143</td>\n    </tr>\n    <tr>\n      <th>3</th>\n      <td>naive_nbr</td>\n      <td>0.000015</td>\n      <td>{'MP': 1, 'MA': 1, 'GP': 1, 'JA': 2, 'TH': 2, ...</td>\n      <td>default</td>\n      <td>0.000000</td>\n      <td>0.003510</td>\n      <td>0.000079</td>\n      <td>13.0</td>\n      <td>0.0</td>\n      <td>13.0</td>\n      <td>1.0</td>\n      <td>13.0</td>\n      <td>0.003051</td>\n    </tr>\n    <tr>\n      <th>4</th>\n      <td>naive_nbr</td>\n      <td>0.000012</td>\n      <td>{'MP': 1, 'MA': 1, 'GP': 1, 'JA': 2, 'TH': 2, ...</td>\n      <td>default</td>\n      <td>0.000000</td>\n      <td>0.003119</td>\n      <td>0.000060</td>\n      <td>13.0</td>\n      <td>0.0</td>\n      <td>13.0</td>\n      <td>1.0</td>\n      <td>13.0</td>\n      <td>0.002807</td>\n    </tr>\n    <tr>\n      <th>...</th>\n      <td>...</td>\n      <td>...</td>\n      <td>...</td>\n      <td>...</td>\n      <td>...</td>\n      <td>...</td>\n      <td>...</td>\n      <td>...</td>\n      <td>...</td>\n      <td>...</td>\n      <td>...</td>\n      <td>...</td>\n      <td>...</td>\n    </tr>\n    <tr>\n      <th>395</th>\n      <td>naive_degree</td>\n      <td>0.000012</td>\n      <td>{'JA': 1, 'BR': 1, 'MP': 1, 'MA': 1, 'FN': 1, ...</td>\n      <td>default</td>\n      <td>0.000045</td>\n      <td>0.003120</td>\n      <td>0.000000</td>\n      <td>16.0</td>\n      <td>16.0</td>\n      <td>0.0</td>\n      <td>13.0</td>\n      <td>1.0</td>\n      <td>0.002886</td>\n    </tr>\n    <tr>\n      <th>396</th>\n      <td>naive_degree</td>\n      <td>0.000016</td>\n      <td>{'JA': 1, 'BR': 1, 'MP': 1, 'MA': 1, 'FN': 1, ...</td>\n      <td>default</td>\n      <td>0.000046</td>\n      <td>0.002843</td>\n      <td>0.000000</td>\n      <td>16.0</td>\n      <td>16.0</td>\n      <td>0.0</td>\n      <td>13.0</td>\n      <td>1.0</td>\n      <td>0.002612</td>\n    </tr>\n    <tr>\n      <th>397</th>\n      <td>naive_degree</td>\n      <td>0.000030</td>\n      <td>{'JA': 1, 'BR': 1, 'MP': 1, 'MA': 1, 'FN': 1, ...</td>\n      <td>default</td>\n      <td>0.000052</td>\n      <td>0.003869</td>\n      <td>0.000000</td>\n      <td>16.0</td>\n      <td>16.0</td>\n      <td>0.0</td>\n      <td>13.0</td>\n      <td>1.0</td>\n      <td>0.003547</td>\n    </tr>\n    <tr>\n      <th>398</th>\n      <td>naive_degree</td>\n      <td>0.000014</td>\n      <td>{'JA': 1, 'BR': 1, 'MP': 1, 'MA': 1, 'FN': 1, ...</td>\n      <td>default</td>\n      <td>0.000046</td>\n      <td>0.003058</td>\n      <td>0.000000</td>\n      <td>16.0</td>\n      <td>16.0</td>\n      <td>0.0</td>\n      <td>13.0</td>\n      <td>1.0</td>\n      <td>0.002816</td>\n    </tr>\n    <tr>\n      <th>399</th>\n      <td>naive_degree</td>\n      <td>0.000012</td>\n      <td>{'JA': 1, 'BR': 1, 'MP': 1, 'MA': 1, 'FN': 1, ...</td>\n      <td>default</td>\n      <td>0.000056</td>\n      <td>0.003251</td>\n      <td>0.000000</td>\n      <td>16.0</td>\n      <td>16.0</td>\n      <td>0.0</td>\n      <td>13.0</td>\n      <td>1.0</td>\n      <td>0.002980</td>\n    </tr>\n  </tbody>\n</table>\n<p>400 rows × 13 columns</p>\n</div>"
     },
     "metadata": {},
     "execution_count": 29
    }
   ],
   "source": [
    "df = pd.read_csv(\"data/output/result.csv\", header=None)\n",
    "df.columns = ['algo', 'bucket update time', 'core', 'dataset', 'degree call time', 'execution time', 'neighborhood call time', 'num bucket update', 'num degree computation', 'num neighborhood computation', 'param_s', 'num subgraph call', 'subgraph computation time']\n",
    "print(df.shape)\n",
    "df"
   ]
  },
  {
   "source": [
    "### sample plotting"
   ],
   "cell_type": "markdown",
   "metadata": {}
  },
  {
   "cell_type": "code",
   "execution_count": 32,
   "metadata": {},
   "outputs": [
    {
     "output_type": "display_data",
     "data": {
      "text/plain": "<Figure size 360x288 with 0 Axes>"
     },
     "metadata": {}
    }
   ],
   "source": [
    "save = True\n",
    "\n",
    "\n",
    "sns.set(rc={'figure.figsize':(5,4)})\n",
    "sns.set_style(\"whitegrid\", {'axes.grid' : True})\n",
    "\n",
    "\n",
    "\n",
    "good_name = {\n",
    "    'bucket update time' : 'Bucket time (s)', \n",
    "    'execution time' : \"Time (s)\", \n",
    "    'neighborhood call time' : \"NB time (s)\", \n",
    "    'subgraph computation time' : \"Sub time(s)\",\n",
    "    'num bucket update' : \"#bucket\", \n",
    "    'num neighborhood computation' : \"#nb\",\n",
    "    'num subgraph call' : \"#subgraph\"\n",
    "}\n",
    "\n",
    "good_name_algo = {\n",
    "    'naive_nbr' : \"NBR\", \n",
    "    'improved_nbr' : \"NBR(1)\", \n",
    "    'improved2_nbr' : \"NBR(2)\",\n",
    "    'naive_degree' : \"DEG\"\n",
    "}\n",
    "\n",
    "\n",
    "\n",
    "\n",
    "group_list = ['dataset']\n",
    "for key, item in df.groupby(group_list, as_index=False):\n",
    "    # key contains dataset\n",
    "    item['param_s'] = item['param_s'].astype(int)\n",
    "    item = item.replace({\"algo\": good_name_algo})\n",
    "    for y_axis in ['bucket update time', 'execution time', 'neighborhood call time', 'num bucket update', 'num neighborhood computation', 'subgraph computation time', 'num subgraph call']:\n",
    "\n",
    "        sns.barplot(x='algo', y=y_axis, data=item, palette='colorblind', order=['NBR', 'NBR(1)', 'NBR(2)'])\n",
    "        plt.xlabel('Algorithm', fontsize=fontsize)\n",
    "        plt.ylabel(good_name[y_axis], fontsize=fontsize)\n",
    "        # plt.yscale(\"log\")\n",
    "        plt.xticks(fontsize=labelsize)\n",
    "        plt.yticks(fontsize=labelsize)\n",
    "        plt.title(key)\n",
    "        plt.tight_layout()\n",
    "        filename = (key + \" \" + y_axis).replace(\" \", \"_\")\n",
    "        if(save):\n",
    "            plt.savefig(\"data/output/fig/\" + filename + \".pdf\")\n",
    "        else:\n",
    "            print(filename)\n",
    "            plt.show()\n",
    "        plt.clf()\n",
    "\n",
    "    # Commnet out following to see full results\n",
    "    if(not save):\n",
    "        break\n"
   ]
  },
  {
   "source": [
    "### Effect of parameter \"s\" in improved2_nbr"
   ],
   "cell_type": "markdown",
   "metadata": {}
  },
  {
   "cell_type": "code",
   "execution_count": 5,
   "metadata": {},
   "outputs": [
    {
     "output_type": "display_data",
     "data": {
      "text/plain": "<Figure size 360x288 with 0 Axes>"
     },
     "metadata": {}
    }
   ],
   "source": [
    "save = True\n",
    "\n",
    "group_list = ['dataset']\n",
    "for key, item in df[df['algo'] == 'improved2_nbr'].groupby(group_list, as_index=False):\n",
    "    \n",
    "    # key contains dataset\n",
    "    item['param_s'] = item['param_s'].astype(int)\n",
    "\n",
    "    for y_axis in ['bucket update time', 'execution time', 'neighborhood call time', 'num bucket update', 'num neighborhood computation']:\n",
    "\n",
    "        sns.barplot(x='param_s', y=y_axis, data=item, palette='colorblind')\n",
    "        plt.xlabel(r'$s$', fontsize=fontsize)\n",
    "        plt.ylabel(good_name[y_axis], fontsize=fontsize)\n",
    "        # plt.yscale(\"log\")\n",
    "        plt.xticks(fontsize=labelsize)\n",
    "        plt.yticks(fontsize=labelsize)\n",
    "\n",
    "        plt.title(key)\n",
    "        # plt.legend(loc='best', fontsize=labelsize-4)\n",
    "        plt.tight_layout()\n",
    "        filename = (key + \" param_s \" + y_axis).replace(\" \", \"_\")\n",
    "        if(save):\n",
    "            plt.savefig(\"data/output/fig/\" + filename + \".pdf\")\n",
    "        else:\n",
    "            print(filename)\n",
    "            plt.show()\n",
    "        plt.clf()\n",
    "\n",
    "    # Commnet out following to see full results\n",
    "    if(not save):\n",
    "        break\n"
   ]
  },
  {
   "cell_type": "code",
   "execution_count": 28,
   "metadata": {},
   "outputs": [
    {
     "output_type": "execute_result",
     "data": {
      "text/plain": [
       "Index(['algo', 'bucket update time', 'core', 'dataset', 'degree call time',\n",
       "       'execution time', 'neighborhood call time', 'num bucket update',\n",
       "       'num degree computation', 'num neighborhood computation', 'param_s'],\n",
       "      dtype='object')"
      ]
     },
     "metadata": {},
     "execution_count": 28
    }
   ],
   "source": [
    "df.columns"
   ]
  },
  {
   "source": [
    "### statistics of run"
   ],
   "cell_type": "markdown",
   "metadata": {}
  },
  {
   "cell_type": "code",
   "execution_count": 30,
   "metadata": {},
   "outputs": [
    {
     "output_type": "stream",
     "name": "stdout",
     "text": [
      "('default', 'improved2_nbr', 16.0) 100\n('default', 'improved_nbr', 13.0) 100\n('default', 'naive_degree', 13.0) 100\n('default', 'naive_nbr', 1.0) 100\n"
     ]
    }
   ],
   "source": [
    "group_list = ['dataset', 'algo', 'param_s']\n",
    "for key, item in df.groupby(group_list, as_index=False):\n",
    "    print(key, item.shape[0])"
   ]
  },
  {
   "cell_type": "code",
   "execution_count": 31,
   "metadata": {},
   "outputs": [],
   "source": [
    "# df[(df['algo'] == \"improved2_nbr\") & (df['dataset'] == 'bin_4') & (df['param_s'] == 6)]"
   ]
  },
  {
   "cell_type": "code",
   "execution_count": null,
   "metadata": {},
   "outputs": [],
   "source": []
  }
 ]
}